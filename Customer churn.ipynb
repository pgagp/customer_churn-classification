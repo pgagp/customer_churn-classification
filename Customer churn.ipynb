{
 "cells": [
  {
   "cell_type": "markdown",
   "id": "d5a48850",
   "metadata": {},
   "source": [
    "## Загрузка и подготовка данных"
   ]
  },
  {
   "cell_type": "code",
   "execution_count": 1,
   "id": "6afe292c",
   "metadata": {},
   "outputs": [],
   "source": [
    "import functools as ft\n",
    "import matplotlib.pyplot as plt\n",
    "import missingno as msno\n",
    "import numpy as np\n",
    "import pandas as pd\n",
    "import seaborn as sns\n",
    "import scikitplot as skplt\n",
    "\n",
    "from catboost import CatBoostClassifier\n",
    "\n",
    "from sklearn.ensemble import RandomForestClassifier\n",
    "from sklearn.linear_model import LogisticRegression\n",
    "from sklearn.metrics import roc_auc_score, roc_curve \n",
    "from sklearn.model_selection import train_test_split, GridSearchCV, KFold\n",
    "from sklearn.preprocessing import StandardScaler\n",
    "from sklearn.utils.class_weight import compute_class_weight"
   ]
  },
  {
   "cell_type": "code",
   "execution_count": 2,
   "id": "31e53575",
   "metadata": {},
   "outputs": [],
   "source": [
    "# записываю параметр random_state\n",
    "r_s = 290822"
   ]
  },
  {
   "cell_type": "code",
   "execution_count": 3,
   "id": "b8ed68dd",
   "metadata": {},
   "outputs": [],
   "source": [
    "df_internet = pd.read_csv('/Users/pgagp/Downloads/final_provider/internet.csv')"
   ]
  },
  {
   "cell_type": "code",
   "execution_count": 4,
   "id": "ed2b3275",
   "metadata": {},
   "outputs": [
    {
     "data": {
      "text/html": [
       "<div>\n",
       "<style scoped>\n",
       "    .dataframe tbody tr th:only-of-type {\n",
       "        vertical-align: middle;\n",
       "    }\n",
       "\n",
       "    .dataframe tbody tr th {\n",
       "        vertical-align: top;\n",
       "    }\n",
       "\n",
       "    .dataframe thead th {\n",
       "        text-align: right;\n",
       "    }\n",
       "</style>\n",
       "<table border=\"1\" class=\"dataframe\">\n",
       "  <thead>\n",
       "    <tr style=\"text-align: right;\">\n",
       "      <th></th>\n",
       "      <th>customerID</th>\n",
       "      <th>InternetService</th>\n",
       "      <th>OnlineSecurity</th>\n",
       "      <th>OnlineBackup</th>\n",
       "      <th>DeviceProtection</th>\n",
       "      <th>TechSupport</th>\n",
       "      <th>StreamingTV</th>\n",
       "      <th>StreamingMovies</th>\n",
       "    </tr>\n",
       "  </thead>\n",
       "  <tbody>\n",
       "    <tr>\n",
       "      <th>0</th>\n",
       "      <td>7590-VHVEG</td>\n",
       "      <td>DSL</td>\n",
       "      <td>No</td>\n",
       "      <td>Yes</td>\n",
       "      <td>No</td>\n",
       "      <td>No</td>\n",
       "      <td>No</td>\n",
       "      <td>No</td>\n",
       "    </tr>\n",
       "    <tr>\n",
       "      <th>1</th>\n",
       "      <td>5575-GNVDE</td>\n",
       "      <td>DSL</td>\n",
       "      <td>Yes</td>\n",
       "      <td>No</td>\n",
       "      <td>Yes</td>\n",
       "      <td>No</td>\n",
       "      <td>No</td>\n",
       "      <td>No</td>\n",
       "    </tr>\n",
       "    <tr>\n",
       "      <th>2</th>\n",
       "      <td>3668-QPYBK</td>\n",
       "      <td>DSL</td>\n",
       "      <td>Yes</td>\n",
       "      <td>Yes</td>\n",
       "      <td>No</td>\n",
       "      <td>No</td>\n",
       "      <td>No</td>\n",
       "      <td>No</td>\n",
       "    </tr>\n",
       "    <tr>\n",
       "      <th>3</th>\n",
       "      <td>7795-CFOCW</td>\n",
       "      <td>DSL</td>\n",
       "      <td>Yes</td>\n",
       "      <td>No</td>\n",
       "      <td>Yes</td>\n",
       "      <td>Yes</td>\n",
       "      <td>No</td>\n",
       "      <td>No</td>\n",
       "    </tr>\n",
       "    <tr>\n",
       "      <th>4</th>\n",
       "      <td>9237-HQITU</td>\n",
       "      <td>Fiber optic</td>\n",
       "      <td>No</td>\n",
       "      <td>No</td>\n",
       "      <td>No</td>\n",
       "      <td>No</td>\n",
       "      <td>No</td>\n",
       "      <td>No</td>\n",
       "    </tr>\n",
       "  </tbody>\n",
       "</table>\n",
       "</div>"
      ],
      "text/plain": [
       "   customerID InternetService OnlineSecurity OnlineBackup DeviceProtection  \\\n",
       "0  7590-VHVEG             DSL             No          Yes               No   \n",
       "1  5575-GNVDE             DSL            Yes           No              Yes   \n",
       "2  3668-QPYBK             DSL            Yes          Yes               No   \n",
       "3  7795-CFOCW             DSL            Yes           No              Yes   \n",
       "4  9237-HQITU     Fiber optic             No           No               No   \n",
       "\n",
       "  TechSupport StreamingTV StreamingMovies  \n",
       "0          No          No              No  \n",
       "1          No          No              No  \n",
       "2          No          No              No  \n",
       "3         Yes          No              No  \n",
       "4          No          No              No  "
      ]
     },
     "execution_count": 4,
     "metadata": {},
     "output_type": "execute_result"
    }
   ],
   "source": [
    "df_internet.head()"
   ]
  },
  {
   "cell_type": "code",
   "execution_count": 5,
   "id": "8c31e78c",
   "metadata": {},
   "outputs": [
    {
     "name": "stdout",
     "output_type": "stream",
     "text": [
      "<class 'pandas.core.frame.DataFrame'>\n",
      "RangeIndex: 5517 entries, 0 to 5516\n",
      "Data columns (total 8 columns):\n",
      " #   Column            Non-Null Count  Dtype \n",
      "---  ------            --------------  ----- \n",
      " 0   customerID        5517 non-null   object\n",
      " 1   InternetService   5517 non-null   object\n",
      " 2   OnlineSecurity    5517 non-null   object\n",
      " 3   OnlineBackup      5517 non-null   object\n",
      " 4   DeviceProtection  5517 non-null   object\n",
      " 5   TechSupport       5517 non-null   object\n",
      " 6   StreamingTV       5517 non-null   object\n",
      " 7   StreamingMovies   5517 non-null   object\n",
      "dtypes: object(8)\n",
      "memory usage: 344.9+ KB\n"
     ]
    }
   ],
   "source": [
    "df_internet.info()"
   ]
  },
  {
   "cell_type": "markdown",
   "id": "c0d295a9",
   "metadata": {},
   "source": [
    "Пропусков в данном датасете нет, тип всех данных - object."
   ]
  },
  {
   "cell_type": "code",
   "execution_count": 6,
   "id": "48dbb48b",
   "metadata": {
    "scrolled": false
   },
   "outputs": [
    {
     "data": {
      "text/plain": [
       "0"
      ]
     },
     "execution_count": 6,
     "metadata": {},
     "output_type": "execute_result"
    }
   ],
   "source": [
    "df_internet.duplicated().sum()"
   ]
  },
  {
   "cell_type": "markdown",
   "id": "c35590c8",
   "metadata": {},
   "source": [
    "явных дубликатов нет"
   ]
  },
  {
   "cell_type": "code",
   "execution_count": 7,
   "id": "8c7fcb59",
   "metadata": {},
   "outputs": [
    {
     "data": {
      "text/html": [
       "<div>\n",
       "<style scoped>\n",
       "    .dataframe tbody tr th:only-of-type {\n",
       "        vertical-align: middle;\n",
       "    }\n",
       "\n",
       "    .dataframe tbody tr th {\n",
       "        vertical-align: top;\n",
       "    }\n",
       "\n",
       "    .dataframe thead th {\n",
       "        text-align: right;\n",
       "    }\n",
       "</style>\n",
       "<table border=\"1\" class=\"dataframe\">\n",
       "  <thead>\n",
       "    <tr style=\"text-align: right;\">\n",
       "      <th></th>\n",
       "      <th>customerID</th>\n",
       "      <th>InternetService</th>\n",
       "      <th>OnlineSecurity</th>\n",
       "      <th>OnlineBackup</th>\n",
       "      <th>DeviceProtection</th>\n",
       "      <th>TechSupport</th>\n",
       "      <th>StreamingTV</th>\n",
       "      <th>StreamingMovies</th>\n",
       "    </tr>\n",
       "  </thead>\n",
       "  <tbody>\n",
       "    <tr>\n",
       "      <th>count</th>\n",
       "      <td>5517</td>\n",
       "      <td>5517</td>\n",
       "      <td>5517</td>\n",
       "      <td>5517</td>\n",
       "      <td>5517</td>\n",
       "      <td>5517</td>\n",
       "      <td>5517</td>\n",
       "      <td>5517</td>\n",
       "    </tr>\n",
       "    <tr>\n",
       "      <th>unique</th>\n",
       "      <td>5517</td>\n",
       "      <td>2</td>\n",
       "      <td>2</td>\n",
       "      <td>2</td>\n",
       "      <td>2</td>\n",
       "      <td>2</td>\n",
       "      <td>2</td>\n",
       "      <td>2</td>\n",
       "    </tr>\n",
       "    <tr>\n",
       "      <th>top</th>\n",
       "      <td>7590-VHVEG</td>\n",
       "      <td>Fiber optic</td>\n",
       "      <td>No</td>\n",
       "      <td>No</td>\n",
       "      <td>No</td>\n",
       "      <td>No</td>\n",
       "      <td>No</td>\n",
       "      <td>No</td>\n",
       "    </tr>\n",
       "    <tr>\n",
       "      <th>freq</th>\n",
       "      <td>1</td>\n",
       "      <td>3096</td>\n",
       "      <td>3498</td>\n",
       "      <td>3088</td>\n",
       "      <td>3095</td>\n",
       "      <td>3473</td>\n",
       "      <td>2810</td>\n",
       "      <td>2785</td>\n",
       "    </tr>\n",
       "  </tbody>\n",
       "</table>\n",
       "</div>"
      ],
      "text/plain": [
       "        customerID InternetService OnlineSecurity OnlineBackup  \\\n",
       "count         5517            5517           5517         5517   \n",
       "unique        5517               2              2            2   \n",
       "top     7590-VHVEG     Fiber optic             No           No   \n",
       "freq             1            3096           3498         3088   \n",
       "\n",
       "       DeviceProtection TechSupport StreamingTV StreamingMovies  \n",
       "count              5517        5517        5517            5517  \n",
       "unique                2           2           2               2  \n",
       "top                  No          No          No              No  \n",
       "freq               3095        3473        2810            2785  "
      ]
     },
     "execution_count": 7,
     "metadata": {},
     "output_type": "execute_result"
    }
   ],
   "source": [
    "df_internet.describe()"
   ]
  },
  {
   "cell_type": "markdown",
   "id": "13633c63",
   "metadata": {},
   "source": [
    "все столбцы кроме customerID категориальные, посмотрю на графике как они распределяются"
   ]
  },
  {
   "cell_type": "code",
   "execution_count": 8,
   "id": "54843e61",
   "metadata": {},
   "outputs": [],
   "source": [
    "# формирую датасет без столбца customerID\n",
    "data = df_internet.drop('customerID', axis=1)"
   ]
  },
  {
   "cell_type": "code",
   "execution_count": 9,
   "id": "6eaadc80",
   "metadata": {
    "scrolled": true
   },
   "outputs": [
    {
     "data": {
      "image/png": "[encoded data removed]",
      "text/plain": [
       "<Figure size 216x216 with 1 Axes>"
      ]
     },
     "metadata": {},
     "output_type": "display_data"
    },
    {
     "data": {
      "image/png": "[encoded data removed]",
      "text/plain": [
       "<Figure size 216x216 with 1 Axes>"
      ]
     },
     "metadata": {},
     "output_type": "display_data"
    },
    {
     "data": {
      "image/png": "[encoded data removed]",
      "text/plain": [
       "<Figure size 216x216 with 1 Axes>"
      ]
     },
     "metadata": {},
     "output_type": "display_data"
    },
    {
     "data": {
      "image/png": "[encoded data removed]",
      "text/plain": [
       "<Figure size 216x216 with 1 Axes>"
      ]
     },
     "metadata": {},
     "output_type": "display_data"
    },
    {
     "data": {
      "image/png": "[encoded data removed]",
      "text/plain": [
       "<Figure size 216x216 with 1 Axes>"
      ]
     },
     "metadata": {},
     "output_type": "display_data"
    },
    {
     "data": {
      "image/png": "[encoded data removed]",
      "text/plain": [
       "<Figure size 216x216 with 1 Axes>"
      ]
     },
     "metadata": {},
     "output_type": "display_data"
    },
    {
     "data": {
      "image/png": "[encoded data removed]",
      "text/plain": [
       "<Figure size 216x216 with 1 Axes>"
      ]
     },
     "metadata": {},
     "output_type": "display_data"
    }
   ],
   "source": [
    "for col in data:\n",
    "    sns.set_theme(style='whitegrid')\n",
    "    s = sns.FacetGrid(data=data)\n",
    "    s.map(sns.histplot, col)"
   ]
  },
  {
   "cell_type": "markdown",
   "id": "92ba639d",
   "metadata": {},
   "source": [
    "Большая часть пользователей подключена используют подключение через оптоволоконный кабель из дополнительных усулуг предпочитают стриминговое телевидение (StreamingTV) и каталог фильмов (StreamingMovies)."
   ]
  },
  {
   "cell_type": "markdown",
   "id": "f188d0d4",
   "metadata": {},
   "source": [
    "### Информация об услугах телефонии"
   ]
  },
  {
   "cell_type": "code",
   "execution_count": 10,
   "id": "01eab29c",
   "metadata": {},
   "outputs": [],
   "source": [
    "df_phone = pd.read_csv('/Users/pgagp/Downloads/final_provider/phone.csv')"
   ]
  },
  {
   "cell_type": "code",
   "execution_count": 11,
   "id": "4be9ac96",
   "metadata": {},
   "outputs": [
    {
     "data": {
      "text/html": [
       "<div>\n",
       "<style scoped>\n",
       "    .dataframe tbody tr th:only-of-type {\n",
       "        vertical-align: middle;\n",
       "    }\n",
       "\n",
       "    .dataframe tbody tr th {\n",
       "        vertical-align: top;\n",
       "    }\n",
       "\n",
       "    .dataframe thead th {\n",
       "        text-align: right;\n",
       "    }\n",
       "</style>\n",
       "<table border=\"1\" class=\"dataframe\">\n",
       "  <thead>\n",
       "    <tr style=\"text-align: right;\">\n",
       "      <th></th>\n",
       "      <th>customerID</th>\n",
       "      <th>MultipleLines</th>\n",
       "    </tr>\n",
       "  </thead>\n",
       "  <tbody>\n",
       "    <tr>\n",
       "      <th>0</th>\n",
       "      <td>5575-GNVDE</td>\n",
       "      <td>No</td>\n",
       "    </tr>\n",
       "    <tr>\n",
       "      <th>1</th>\n",
       "      <td>3668-QPYBK</td>\n",
       "      <td>No</td>\n",
       "    </tr>\n",
       "    <tr>\n",
       "      <th>2</th>\n",
       "      <td>9237-HQITU</td>\n",
       "      <td>No</td>\n",
       "    </tr>\n",
       "    <tr>\n",
       "      <th>3</th>\n",
       "      <td>9305-CDSKC</td>\n",
       "      <td>Yes</td>\n",
       "    </tr>\n",
       "    <tr>\n",
       "      <th>4</th>\n",
       "      <td>1452-KIOVK</td>\n",
       "      <td>Yes</td>\n",
       "    </tr>\n",
       "  </tbody>\n",
       "</table>\n",
       "</div>"
      ],
      "text/plain": [
       "   customerID MultipleLines\n",
       "0  5575-GNVDE            No\n",
       "1  3668-QPYBK            No\n",
       "2  9237-HQITU            No\n",
       "3  9305-CDSKC           Yes\n",
       "4  1452-KIOVK           Yes"
      ]
     },
     "execution_count": 11,
     "metadata": {},
     "output_type": "execute_result"
    }
   ],
   "source": [
    "df_phone.head()"
   ]
  },
  {
   "cell_type": "code",
   "execution_count": 12,
   "id": "241b08a5",
   "metadata": {},
   "outputs": [
    {
     "name": "stdout",
     "output_type": "stream",
     "text": [
      "<class 'pandas.core.frame.DataFrame'>\n",
      "RangeIndex: 6361 entries, 0 to 6360\n",
      "Data columns (total 2 columns):\n",
      " #   Column         Non-Null Count  Dtype \n",
      "---  ------         --------------  ----- \n",
      " 0   customerID     6361 non-null   object\n",
      " 1   MultipleLines  6361 non-null   object\n",
      "dtypes: object(2)\n",
      "memory usage: 99.5+ KB\n"
     ]
    }
   ],
   "source": [
    "df_phone.info()"
   ]
  },
  {
   "cell_type": "markdown",
   "id": "6b7d4ad8",
   "metadata": {},
   "source": [
    "Также пропусков нет, тип данных - object"
   ]
  },
  {
   "cell_type": "code",
   "execution_count": 13,
   "id": "e3f03d15",
   "metadata": {},
   "outputs": [
    {
     "data": {
      "text/plain": [
       "No     3390\n",
       "Yes    2971\n",
       "Name: MultipleLines, dtype: int64"
      ]
     },
     "execution_count": 13,
     "metadata": {},
     "output_type": "execute_result"
    }
   ],
   "source": [
    "df_phone['MultipleLines'].value_counts()"
   ]
  },
  {
   "cell_type": "code",
   "execution_count": 14,
   "id": "b3b1c12f",
   "metadata": {},
   "outputs": [
    {
     "data": {
      "text/plain": [
       "0"
      ]
     },
     "execution_count": 14,
     "metadata": {},
     "output_type": "execute_result"
    }
   ],
   "source": [
    "df_phone.duplicated().sum()"
   ]
  },
  {
   "cell_type": "markdown",
   "id": "6f93f176",
   "metadata": {},
   "source": [
    "Явных дубликатов нет, 47% пользователей пользуются MultipleLines"
   ]
  },
  {
   "cell_type": "markdown",
   "id": "da658211",
   "metadata": {},
   "source": [
    "### Информация о договоре"
   ]
  },
  {
   "cell_type": "code",
   "execution_count": 15,
   "id": "8c06b086",
   "metadata": {},
   "outputs": [],
   "source": [
    "df_contract = pd.read_csv('/Users/pgagp/Downloads/final_provider/contract.csv')"
   ]
  },
  {
   "cell_type": "code",
   "execution_count": 16,
   "id": "67a753f8",
   "metadata": {},
   "outputs": [],
   "source": [
    "df_contract1 = df_contract.copy()"
   ]
  },
  {
   "cell_type": "code",
   "execution_count": 17,
   "id": "12384598",
   "metadata": {},
   "outputs": [
    {
     "data": {
      "text/html": [
       "<div>\n",
       "<style scoped>\n",
       "    .dataframe tbody tr th:only-of-type {\n",
       "        vertical-align: middle;\n",
       "    }\n",
       "\n",
       "    .dataframe tbody tr th {\n",
       "        vertical-align: top;\n",
       "    }\n",
       "\n",
       "    .dataframe thead th {\n",
       "        text-align: right;\n",
       "    }\n",
       "</style>\n",
       "<table border=\"1\" class=\"dataframe\">\n",
       "  <thead>\n",
       "    <tr style=\"text-align: right;\">\n",
       "      <th></th>\n",
       "      <th>customerID</th>\n",
       "      <th>BeginDate</th>\n",
       "      <th>EndDate</th>\n",
       "      <th>Type</th>\n",
       "      <th>PaperlessBilling</th>\n",
       "      <th>PaymentMethod</th>\n",
       "      <th>MonthlyCharges</th>\n",
       "      <th>TotalCharges</th>\n",
       "    </tr>\n",
       "  </thead>\n",
       "  <tbody>\n",
       "    <tr>\n",
       "      <th>0</th>\n",
       "      <td>7590-VHVEG</td>\n",
       "      <td>2020-01-01</td>\n",
       "      <td>No</td>\n",
       "      <td>Month-to-month</td>\n",
       "      <td>Yes</td>\n",
       "      <td>Electronic check</td>\n",
       "      <td>29.85</td>\n",
       "      <td>29.85</td>\n",
       "    </tr>\n",
       "    <tr>\n",
       "      <th>1</th>\n",
       "      <td>5575-GNVDE</td>\n",
       "      <td>2017-04-01</td>\n",
       "      <td>No</td>\n",
       "      <td>One year</td>\n",
       "      <td>No</td>\n",
       "      <td>Mailed check</td>\n",
       "      <td>56.95</td>\n",
       "      <td>1889.5</td>\n",
       "    </tr>\n",
       "    <tr>\n",
       "      <th>2</th>\n",
       "      <td>3668-QPYBK</td>\n",
       "      <td>2019-10-01</td>\n",
       "      <td>2019-12-01 00:00:00</td>\n",
       "      <td>Month-to-month</td>\n",
       "      <td>Yes</td>\n",
       "      <td>Mailed check</td>\n",
       "      <td>53.85</td>\n",
       "      <td>108.15</td>\n",
       "    </tr>\n",
       "    <tr>\n",
       "      <th>3</th>\n",
       "      <td>7795-CFOCW</td>\n",
       "      <td>2016-05-01</td>\n",
       "      <td>No</td>\n",
       "      <td>One year</td>\n",
       "      <td>No</td>\n",
       "      <td>Bank transfer (automatic)</td>\n",
       "      <td>42.30</td>\n",
       "      <td>1840.75</td>\n",
       "    </tr>\n",
       "    <tr>\n",
       "      <th>4</th>\n",
       "      <td>9237-HQITU</td>\n",
       "      <td>2019-09-01</td>\n",
       "      <td>2019-11-01 00:00:00</td>\n",
       "      <td>Month-to-month</td>\n",
       "      <td>Yes</td>\n",
       "      <td>Electronic check</td>\n",
       "      <td>70.70</td>\n",
       "      <td>151.65</td>\n",
       "    </tr>\n",
       "  </tbody>\n",
       "</table>\n",
       "</div>"
      ],
      "text/plain": [
       "   customerID   BeginDate              EndDate            Type  \\\n",
       "0  7590-VHVEG  2020-01-01                   No  Month-to-month   \n",
       "1  5575-GNVDE  2017-04-01                   No        One year   \n",
       "2  3668-QPYBK  2019-10-01  2019-12-01 00:00:00  Month-to-month   \n",
       "3  7795-CFOCW  2016-05-01                   No        One year   \n",
       "4  9237-HQITU  2019-09-01  2019-11-01 00:00:00  Month-to-month   \n",
       "\n",
       "  PaperlessBilling              PaymentMethod  MonthlyCharges TotalCharges  \n",
       "0              Yes           Electronic check           29.85        29.85  \n",
       "1               No               Mailed check           56.95       1889.5  \n",
       "2              Yes               Mailed check           53.85       108.15  \n",
       "3               No  Bank transfer (automatic)           42.30      1840.75  \n",
       "4              Yes           Electronic check           70.70       151.65  "
      ]
     },
     "execution_count": 17,
     "metadata": {},
     "output_type": "execute_result"
    }
   ],
   "source": [
    "df_contract.head()"
   ]
  },
  {
   "cell_type": "code",
   "execution_count": 18,
   "id": "2ab70dc9",
   "metadata": {},
   "outputs": [
    {
     "name": "stdout",
     "output_type": "stream",
     "text": [
      "<class 'pandas.core.frame.DataFrame'>\n",
      "RangeIndex: 7043 entries, 0 to 7042\n",
      "Data columns (total 8 columns):\n",
      " #   Column            Non-Null Count  Dtype  \n",
      "---  ------            --------------  -----  \n",
      " 0   customerID        7043 non-null   object \n",
      " 1   BeginDate         7043 non-null   object \n",
      " 2   EndDate           7043 non-null   object \n",
      " 3   Type              7043 non-null   object \n",
      " 4   PaperlessBilling  7043 non-null   object \n",
      " 5   PaymentMethod     7043 non-null   object \n",
      " 6   MonthlyCharges    7043 non-null   float64\n",
      " 7   TotalCharges      7043 non-null   object \n",
      "dtypes: float64(1), object(7)\n",
      "memory usage: 440.3+ KB\n"
     ]
    }
   ],
   "source": [
    "df_contract.info()"
   ]
  },
  {
   "cell_type": "markdown",
   "id": "ef33213d",
   "metadata": {},
   "source": [
    "В датасете лучше изменить типы данных в столбцах BeginDate, EndDate и TotalCharges. \\\n",
    "Из описания проекта известно, что выгрузка на 1 февраля 2020 года, поэтому заменяю No на дату выгрузки."
   ]
  },
  {
   "cell_type": "code",
   "execution_count": 19,
   "id": "4b2def15",
   "metadata": {},
   "outputs": [],
   "source": [
    "df_contract['EndDate'] = df_contract['EndDate'].replace(['No'], ['2020-02-01'])"
   ]
  },
  {
   "cell_type": "code",
   "execution_count": 20,
   "id": "4bd72ef1",
   "metadata": {},
   "outputs": [],
   "source": [
    "df_contract['BeginDate'] = pd.to_datetime(df_contract['BeginDate'], format='%Y-%m-%d')\n",
    "df_contract['EndDate'] = pd.to_datetime(df_contract['EndDate'], format='%Y-%m-%d')\n",
    "df_contract['TotalCharges'] = pd.to_numeric(df_contract['TotalCharges'], errors ='coerce')"
   ]
  },
  {
   "cell_type": "markdown",
   "id": "5a391f28",
   "metadata": {},
   "source": [
    "Формирую новый столбец с информацией о количестве дней со дня подключения к услугам Телекома."
   ]
  },
  {
   "cell_type": "code",
   "execution_count": 21,
   "id": "79ff3a7c",
   "metadata": {},
   "outputs": [
    {
     "name": "stdout",
     "output_type": "stream",
     "text": [
      "<class 'pandas.core.frame.DataFrame'>\n",
      "RangeIndex: 7043 entries, 0 to 7042\n",
      "Data columns (total 9 columns):\n",
      " #   Column            Non-Null Count  Dtype         \n",
      "---  ------            --------------  -----         \n",
      " 0   customerID        7043 non-null   object        \n",
      " 1   BeginDate         7043 non-null   datetime64[ns]\n",
      " 2   EndDate           7043 non-null   datetime64[ns]\n",
      " 3   Type              7043 non-null   object        \n",
      " 4   PaperlessBilling  7043 non-null   object        \n",
      " 5   PaymentMethod     7043 non-null   object        \n",
      " 6   MonthlyCharges    7043 non-null   float64       \n",
      " 7   TotalCharges      7032 non-null   float64       \n",
      " 8   Total_days        7043 non-null   int64         \n",
      "dtypes: datetime64[ns](2), float64(2), int64(1), object(4)\n",
      "memory usage: 495.3+ KB\n"
     ]
    }
   ],
   "source": [
    "df_contract['Total_days'] = (df_contract['EndDate'] - df_contract['BeginDate']).dt.days\n",
    "df_contract.info()"
   ]
  },
  {
   "cell_type": "code",
   "execution_count": 22,
   "id": "142f6589",
   "metadata": {},
   "outputs": [
    {
     "data": {
      "text/plain": [
       "customerID           0\n",
       "BeginDate            0\n",
       "EndDate              0\n",
       "Type                 0\n",
       "PaperlessBilling     0\n",
       "PaymentMethod        0\n",
       "MonthlyCharges       0\n",
       "TotalCharges        11\n",
       "Total_days           0\n",
       "dtype: int64"
      ]
     },
     "execution_count": 22,
     "metadata": {},
     "output_type": "execute_result"
    }
   ],
   "source": [
    "df_contract.isna().sum()"
   ]
  },
  {
   "cell_type": "markdown",
   "id": "ccabeaea",
   "metadata": {},
   "source": [
    "после преобразований появились пропуски в столбце TotalCharges, посмотрю на них более детально"
   ]
  },
  {
   "cell_type": "code",
   "execution_count": 23,
   "id": "7f3491bf",
   "metadata": {},
   "outputs": [
    {
     "data": {
      "text/html": [
       "<div>\n",
       "<style scoped>\n",
       "    .dataframe tbody tr th:only-of-type {\n",
       "        vertical-align: middle;\n",
       "    }\n",
       "\n",
       "    .dataframe tbody tr th {\n",
       "        vertical-align: top;\n",
       "    }\n",
       "\n",
       "    .dataframe thead th {\n",
       "        text-align: right;\n",
       "    }\n",
       "</style>\n",
       "<table border=\"1\" class=\"dataframe\">\n",
       "  <thead>\n",
       "    <tr style=\"text-align: right;\">\n",
       "      <th></th>\n",
       "      <th>customerID</th>\n",
       "      <th>BeginDate</th>\n",
       "      <th>EndDate</th>\n",
       "      <th>Type</th>\n",
       "      <th>PaperlessBilling</th>\n",
       "      <th>PaymentMethod</th>\n",
       "      <th>MonthlyCharges</th>\n",
       "      <th>TotalCharges</th>\n",
       "      <th>Total_days</th>\n",
       "    </tr>\n",
       "  </thead>\n",
       "  <tbody>\n",
       "    <tr>\n",
       "      <th>488</th>\n",
       "      <td>4472-LVYGI</td>\n",
       "      <td>2020-02-01</td>\n",
       "      <td>2020-02-01</td>\n",
       "      <td>Two year</td>\n",
       "      <td>Yes</td>\n",
       "      <td>Bank transfer (automatic)</td>\n",
       "      <td>52.55</td>\n",
       "      <td>NaN</td>\n",
       "      <td>0</td>\n",
       "    </tr>\n",
       "    <tr>\n",
       "      <th>753</th>\n",
       "      <td>3115-CZMZD</td>\n",
       "      <td>2020-02-01</td>\n",
       "      <td>2020-02-01</td>\n",
       "      <td>Two year</td>\n",
       "      <td>No</td>\n",
       "      <td>Mailed check</td>\n",
       "      <td>20.25</td>\n",
       "      <td>NaN</td>\n",
       "      <td>0</td>\n",
       "    </tr>\n",
       "    <tr>\n",
       "      <th>936</th>\n",
       "      <td>5709-LVOEQ</td>\n",
       "      <td>2020-02-01</td>\n",
       "      <td>2020-02-01</td>\n",
       "      <td>Two year</td>\n",
       "      <td>No</td>\n",
       "      <td>Mailed check</td>\n",
       "      <td>80.85</td>\n",
       "      <td>NaN</td>\n",
       "      <td>0</td>\n",
       "    </tr>\n",
       "    <tr>\n",
       "      <th>1082</th>\n",
       "      <td>4367-NUYAO</td>\n",
       "      <td>2020-02-01</td>\n",
       "      <td>2020-02-01</td>\n",
       "      <td>Two year</td>\n",
       "      <td>No</td>\n",
       "      <td>Mailed check</td>\n",
       "      <td>25.75</td>\n",
       "      <td>NaN</td>\n",
       "      <td>0</td>\n",
       "    </tr>\n",
       "    <tr>\n",
       "      <th>1340</th>\n",
       "      <td>1371-DWPAZ</td>\n",
       "      <td>2020-02-01</td>\n",
       "      <td>2020-02-01</td>\n",
       "      <td>Two year</td>\n",
       "      <td>No</td>\n",
       "      <td>Credit card (automatic)</td>\n",
       "      <td>56.05</td>\n",
       "      <td>NaN</td>\n",
       "      <td>0</td>\n",
       "    </tr>\n",
       "    <tr>\n",
       "      <th>3331</th>\n",
       "      <td>7644-OMVMY</td>\n",
       "      <td>2020-02-01</td>\n",
       "      <td>2020-02-01</td>\n",
       "      <td>Two year</td>\n",
       "      <td>No</td>\n",
       "      <td>Mailed check</td>\n",
       "      <td>19.85</td>\n",
       "      <td>NaN</td>\n",
       "      <td>0</td>\n",
       "    </tr>\n",
       "    <tr>\n",
       "      <th>3826</th>\n",
       "      <td>3213-VVOLG</td>\n",
       "      <td>2020-02-01</td>\n",
       "      <td>2020-02-01</td>\n",
       "      <td>Two year</td>\n",
       "      <td>No</td>\n",
       "      <td>Mailed check</td>\n",
       "      <td>25.35</td>\n",
       "      <td>NaN</td>\n",
       "      <td>0</td>\n",
       "    </tr>\n",
       "    <tr>\n",
       "      <th>4380</th>\n",
       "      <td>2520-SGTTA</td>\n",
       "      <td>2020-02-01</td>\n",
       "      <td>2020-02-01</td>\n",
       "      <td>Two year</td>\n",
       "      <td>No</td>\n",
       "      <td>Mailed check</td>\n",
       "      <td>20.00</td>\n",
       "      <td>NaN</td>\n",
       "      <td>0</td>\n",
       "    </tr>\n",
       "    <tr>\n",
       "      <th>5218</th>\n",
       "      <td>2923-ARZLG</td>\n",
       "      <td>2020-02-01</td>\n",
       "      <td>2020-02-01</td>\n",
       "      <td>One year</td>\n",
       "      <td>Yes</td>\n",
       "      <td>Mailed check</td>\n",
       "      <td>19.70</td>\n",
       "      <td>NaN</td>\n",
       "      <td>0</td>\n",
       "    </tr>\n",
       "    <tr>\n",
       "      <th>6670</th>\n",
       "      <td>4075-WKNIU</td>\n",
       "      <td>2020-02-01</td>\n",
       "      <td>2020-02-01</td>\n",
       "      <td>Two year</td>\n",
       "      <td>No</td>\n",
       "      <td>Mailed check</td>\n",
       "      <td>73.35</td>\n",
       "      <td>NaN</td>\n",
       "      <td>0</td>\n",
       "    </tr>\n",
       "    <tr>\n",
       "      <th>6754</th>\n",
       "      <td>2775-SEFEE</td>\n",
       "      <td>2020-02-01</td>\n",
       "      <td>2020-02-01</td>\n",
       "      <td>Two year</td>\n",
       "      <td>Yes</td>\n",
       "      <td>Bank transfer (automatic)</td>\n",
       "      <td>61.90</td>\n",
       "      <td>NaN</td>\n",
       "      <td>0</td>\n",
       "    </tr>\n",
       "  </tbody>\n",
       "</table>\n",
       "</div>"
      ],
      "text/plain": [
       "      customerID  BeginDate    EndDate      Type PaperlessBilling  \\\n",
       "488   4472-LVYGI 2020-02-01 2020-02-01  Two year              Yes   \n",
       "753   3115-CZMZD 2020-02-01 2020-02-01  Two year               No   \n",
       "936   5709-LVOEQ 2020-02-01 2020-02-01  Two year               No   \n",
       "1082  4367-NUYAO 2020-02-01 2020-02-01  Two year               No   \n",
       "1340  1371-DWPAZ 2020-02-01 2020-02-01  Two year               No   \n",
       "3331  7644-OMVMY 2020-02-01 2020-02-01  Two year               No   \n",
       "3826  3213-VVOLG 2020-02-01 2020-02-01  Two year               No   \n",
       "4380  2520-SGTTA 2020-02-01 2020-02-01  Two year               No   \n",
       "5218  2923-ARZLG 2020-02-01 2020-02-01  One year              Yes   \n",
       "6670  4075-WKNIU 2020-02-01 2020-02-01  Two year               No   \n",
       "6754  2775-SEFEE 2020-02-01 2020-02-01  Two year              Yes   \n",
       "\n",
       "                  PaymentMethod  MonthlyCharges  TotalCharges  Total_days  \n",
       "488   Bank transfer (automatic)           52.55           NaN           0  \n",
       "753                Mailed check           20.25           NaN           0  \n",
       "936                Mailed check           80.85           NaN           0  \n",
       "1082               Mailed check           25.75           NaN           0  \n",
       "1340    Credit card (automatic)           56.05           NaN           0  \n",
       "3331               Mailed check           19.85           NaN           0  \n",
       "3826               Mailed check           25.35           NaN           0  \n",
       "4380               Mailed check           20.00           NaN           0  \n",
       "5218               Mailed check           19.70           NaN           0  \n",
       "6670               Mailed check           73.35           NaN           0  \n",
       "6754  Bank transfer (automatic)           61.90           NaN           0  "
      ]
     },
     "execution_count": 23,
     "metadata": {},
     "output_type": "execute_result"
    }
   ],
   "source": [
    "df_contract[np.isnan(df_contract['TotalCharges'])]"
   ]
  },
  {
   "cell_type": "markdown",
   "id": "74eb5ea0",
   "metadata": {},
   "source": [
    "для сравнения выведу изначальный датафрейм"
   ]
  },
  {
   "cell_type": "code",
   "execution_count": 24,
   "id": "1b64741e",
   "metadata": {},
   "outputs": [
    {
     "data": {
      "text/html": [
       "<div>\n",
       "<style scoped>\n",
       "    .dataframe tbody tr th:only-of-type {\n",
       "        vertical-align: middle;\n",
       "    }\n",
       "\n",
       "    .dataframe tbody tr th {\n",
       "        vertical-align: top;\n",
       "    }\n",
       "\n",
       "    .dataframe thead th {\n",
       "        text-align: right;\n",
       "    }\n",
       "</style>\n",
       "<table border=\"1\" class=\"dataframe\">\n",
       "  <thead>\n",
       "    <tr style=\"text-align: right;\">\n",
       "      <th></th>\n",
       "      <th>customerID</th>\n",
       "      <th>BeginDate</th>\n",
       "      <th>EndDate</th>\n",
       "      <th>Type</th>\n",
       "      <th>PaperlessBilling</th>\n",
       "      <th>PaymentMethod</th>\n",
       "      <th>MonthlyCharges</th>\n",
       "      <th>TotalCharges</th>\n",
       "    </tr>\n",
       "  </thead>\n",
       "  <tbody>\n",
       "    <tr>\n",
       "      <th>488</th>\n",
       "      <td>4472-LVYGI</td>\n",
       "      <td>2020-02-01</td>\n",
       "      <td>No</td>\n",
       "      <td>Two year</td>\n",
       "      <td>Yes</td>\n",
       "      <td>Bank transfer (automatic)</td>\n",
       "      <td>52.55</td>\n",
       "      <td></td>\n",
       "    </tr>\n",
       "    <tr>\n",
       "      <th>753</th>\n",
       "      <td>3115-CZMZD</td>\n",
       "      <td>2020-02-01</td>\n",
       "      <td>No</td>\n",
       "      <td>Two year</td>\n",
       "      <td>No</td>\n",
       "      <td>Mailed check</td>\n",
       "      <td>20.25</td>\n",
       "      <td></td>\n",
       "    </tr>\n",
       "    <tr>\n",
       "      <th>936</th>\n",
       "      <td>5709-LVOEQ</td>\n",
       "      <td>2020-02-01</td>\n",
       "      <td>No</td>\n",
       "      <td>Two year</td>\n",
       "      <td>No</td>\n",
       "      <td>Mailed check</td>\n",
       "      <td>80.85</td>\n",
       "      <td></td>\n",
       "    </tr>\n",
       "    <tr>\n",
       "      <th>1082</th>\n",
       "      <td>4367-NUYAO</td>\n",
       "      <td>2020-02-01</td>\n",
       "      <td>No</td>\n",
       "      <td>Two year</td>\n",
       "      <td>No</td>\n",
       "      <td>Mailed check</td>\n",
       "      <td>25.75</td>\n",
       "      <td></td>\n",
       "    </tr>\n",
       "    <tr>\n",
       "      <th>1340</th>\n",
       "      <td>1371-DWPAZ</td>\n",
       "      <td>2020-02-01</td>\n",
       "      <td>No</td>\n",
       "      <td>Two year</td>\n",
       "      <td>No</td>\n",
       "      <td>Credit card (automatic)</td>\n",
       "      <td>56.05</td>\n",
       "      <td></td>\n",
       "    </tr>\n",
       "    <tr>\n",
       "      <th>3331</th>\n",
       "      <td>7644-OMVMY</td>\n",
       "      <td>2020-02-01</td>\n",
       "      <td>No</td>\n",
       "      <td>Two year</td>\n",
       "      <td>No</td>\n",
       "      <td>Mailed check</td>\n",
       "      <td>19.85</td>\n",
       "      <td></td>\n",
       "    </tr>\n",
       "    <tr>\n",
       "      <th>3826</th>\n",
       "      <td>3213-VVOLG</td>\n",
       "      <td>2020-02-01</td>\n",
       "      <td>No</td>\n",
       "      <td>Two year</td>\n",
       "      <td>No</td>\n",
       "      <td>Mailed check</td>\n",
       "      <td>25.35</td>\n",
       "      <td></td>\n",
       "    </tr>\n",
       "    <tr>\n",
       "      <th>4380</th>\n",
       "      <td>2520-SGTTA</td>\n",
       "      <td>2020-02-01</td>\n",
       "      <td>No</td>\n",
       "      <td>Two year</td>\n",
       "      <td>No</td>\n",
       "      <td>Mailed check</td>\n",
       "      <td>20.00</td>\n",
       "      <td></td>\n",
       "    </tr>\n",
       "    <tr>\n",
       "      <th>5218</th>\n",
       "      <td>2923-ARZLG</td>\n",
       "      <td>2020-02-01</td>\n",
       "      <td>No</td>\n",
       "      <td>One year</td>\n",
       "      <td>Yes</td>\n",
       "      <td>Mailed check</td>\n",
       "      <td>19.70</td>\n",
       "      <td></td>\n",
       "    </tr>\n",
       "    <tr>\n",
       "      <th>6670</th>\n",
       "      <td>4075-WKNIU</td>\n",
       "      <td>2020-02-01</td>\n",
       "      <td>No</td>\n",
       "      <td>Two year</td>\n",
       "      <td>No</td>\n",
       "      <td>Mailed check</td>\n",
       "      <td>73.35</td>\n",
       "      <td></td>\n",
       "    </tr>\n",
       "    <tr>\n",
       "      <th>6754</th>\n",
       "      <td>2775-SEFEE</td>\n",
       "      <td>2020-02-01</td>\n",
       "      <td>No</td>\n",
       "      <td>Two year</td>\n",
       "      <td>Yes</td>\n",
       "      <td>Bank transfer (automatic)</td>\n",
       "      <td>61.90</td>\n",
       "      <td></td>\n",
       "    </tr>\n",
       "  </tbody>\n",
       "</table>\n",
       "</div>"
      ],
      "text/plain": [
       "      customerID   BeginDate EndDate      Type PaperlessBilling  \\\n",
       "488   4472-LVYGI  2020-02-01      No  Two year              Yes   \n",
       "753   3115-CZMZD  2020-02-01      No  Two year               No   \n",
       "936   5709-LVOEQ  2020-02-01      No  Two year               No   \n",
       "1082  4367-NUYAO  2020-02-01      No  Two year               No   \n",
       "1340  1371-DWPAZ  2020-02-01      No  Two year               No   \n",
       "3331  7644-OMVMY  2020-02-01      No  Two year               No   \n",
       "3826  3213-VVOLG  2020-02-01      No  Two year               No   \n",
       "4380  2520-SGTTA  2020-02-01      No  Two year               No   \n",
       "5218  2923-ARZLG  2020-02-01      No  One year              Yes   \n",
       "6670  4075-WKNIU  2020-02-01      No  Two year               No   \n",
       "6754  2775-SEFEE  2020-02-01      No  Two year              Yes   \n",
       "\n",
       "                  PaymentMethod  MonthlyCharges TotalCharges  \n",
       "488   Bank transfer (automatic)           52.55               \n",
       "753                Mailed check           20.25               \n",
       "936                Mailed check           80.85               \n",
       "1082               Mailed check           25.75               \n",
       "1340    Credit card (automatic)           56.05               \n",
       "3331               Mailed check           19.85               \n",
       "3826               Mailed check           25.35               \n",
       "4380               Mailed check           20.00               \n",
       "5218               Mailed check           19.70               \n",
       "6670               Mailed check           73.35               \n",
       "6754  Bank transfer (automatic)           61.90               "
      ]
     },
     "execution_count": 24,
     "metadata": {},
     "output_type": "execute_result"
    }
   ],
   "source": [
    "df_contract1[df_contract1['BeginDate'] == '2020-02-01']"
   ]
  },
  {
   "cell_type": "markdown",
   "id": "8834a59b",
   "metadata": {},
   "source": [
    "Пропуски в TotalCharges потому, что данные пользователи подключились к Телекому в день выгрузки датасетов. \\\n",
    "Заполню данными по 0 руб."
   ]
  },
  {
   "cell_type": "code",
   "execution_count": 25,
   "id": "dd2bb286",
   "metadata": {},
   "outputs": [],
   "source": [
    "df_contract['TotalCharges'] = df_contract['TotalCharges'].fillna(0)"
   ]
  },
  {
   "cell_type": "code",
   "execution_count": 26,
   "id": "08f7a3be",
   "metadata": {},
   "outputs": [
    {
     "name": "stdout",
     "output_type": "stream",
     "text": [
      "Month-to-month    55.019168\n",
      "Two year          24.066449\n",
      "One year          20.914383\n",
      "Name: Type, dtype: float64\n"
     ]
    },
    {
     "data": {
      "text/plain": [
       "<AxesSubplot:xlabel='Type', ylabel='Count'>"
      ]
     },
     "execution_count": 26,
     "metadata": {},
     "output_type": "execute_result"
    },
    {
     "data": {
      "image/png": "[encoded data removed]",
      "text/plain": [
       "<Figure size 432x288 with 1 Axes>"
      ]
     },
     "metadata": {},
     "output_type": "display_data"
    }
   ],
   "source": [
    "print(df_contract['Type'].value_counts(normalize=True) * 100)\n",
    "sns.histplot(data = df_contract['Type'])"
   ]
  },
  {
   "cell_type": "code",
   "execution_count": 27,
   "id": "b85ca375",
   "metadata": {},
   "outputs": [
    {
     "name": "stdout",
     "output_type": "stream",
     "text": [
      "Electronic check             33.579441\n",
      "Mailed check                 22.887974\n",
      "Bank transfer (automatic)    21.922476\n",
      "Credit card (automatic)      21.610109\n",
      "Name: PaymentMethod, dtype: float64\n"
     ]
    },
    {
     "data": {
      "text/plain": [
       "<AxesSubplot:xlabel='PaymentMethod', ylabel='Count'>"
      ]
     },
     "execution_count": 27,
     "metadata": {},
     "output_type": "execute_result"
    },
    {
     "data": {
      "image/png": "[encoded data removed]",
      "text/plain": [
       "<Figure size 432x288 with 1 Axes>"
      ]
     },
     "metadata": {},
     "output_type": "display_data"
    }
   ],
   "source": [
    "print(df_contract['PaymentMethod'].value_counts(normalize=True) * 100)\n",
    "sns.histplot(data = df_contract['PaymentMethod'])"
   ]
  },
  {
   "cell_type": "markdown",
   "id": "a9cfdac5",
   "metadata": {},
   "source": [
    "55% плятят ежемесячно. \\\n",
    "24% платят за 2 года. \\\n",
    "21% платят за 1 год."
   ]
  },
  {
   "cell_type": "code",
   "execution_count": 28,
   "id": "ce5a8b58",
   "metadata": {},
   "outputs": [
    {
     "data": {
      "text/html": [
       "<div>\n",
       "<style scoped>\n",
       "    .dataframe tbody tr th:only-of-type {\n",
       "        vertical-align: middle;\n",
       "    }\n",
       "\n",
       "    .dataframe tbody tr th {\n",
       "        vertical-align: top;\n",
       "    }\n",
       "\n",
       "    .dataframe thead th {\n",
       "        text-align: right;\n",
       "    }\n",
       "</style>\n",
       "<table border=\"1\" class=\"dataframe\">\n",
       "  <thead>\n",
       "    <tr style=\"text-align: right;\">\n",
       "      <th></th>\n",
       "      <th>MonthlyCharges</th>\n",
       "      <th>TotalCharges</th>\n",
       "      <th>Total_days</th>\n",
       "    </tr>\n",
       "  </thead>\n",
       "  <tbody>\n",
       "    <tr>\n",
       "      <th>count</th>\n",
       "      <td>7043.000000</td>\n",
       "      <td>7043.000000</td>\n",
       "      <td>7043.000000</td>\n",
       "    </tr>\n",
       "    <tr>\n",
       "      <th>mean</th>\n",
       "      <td>64.761692</td>\n",
       "      <td>2279.734304</td>\n",
       "      <td>985.996166</td>\n",
       "    </tr>\n",
       "    <tr>\n",
       "      <th>std</th>\n",
       "      <td>30.090047</td>\n",
       "      <td>2266.794470</td>\n",
       "      <td>747.587844</td>\n",
       "    </tr>\n",
       "    <tr>\n",
       "      <th>min</th>\n",
       "      <td>18.250000</td>\n",
       "      <td>0.000000</td>\n",
       "      <td>0.000000</td>\n",
       "    </tr>\n",
       "    <tr>\n",
       "      <th>25%</th>\n",
       "      <td>35.500000</td>\n",
       "      <td>398.550000</td>\n",
       "      <td>273.000000</td>\n",
       "    </tr>\n",
       "    <tr>\n",
       "      <th>50%</th>\n",
       "      <td>70.350000</td>\n",
       "      <td>1394.550000</td>\n",
       "      <td>883.000000</td>\n",
       "    </tr>\n",
       "    <tr>\n",
       "      <th>75%</th>\n",
       "      <td>89.850000</td>\n",
       "      <td>3786.600000</td>\n",
       "      <td>1676.000000</td>\n",
       "    </tr>\n",
       "    <tr>\n",
       "      <th>max</th>\n",
       "      <td>118.750000</td>\n",
       "      <td>8684.800000</td>\n",
       "      <td>2191.000000</td>\n",
       "    </tr>\n",
       "  </tbody>\n",
       "</table>\n",
       "</div>"
      ],
      "text/plain": [
       "       MonthlyCharges  TotalCharges   Total_days\n",
       "count     7043.000000   7043.000000  7043.000000\n",
       "mean        64.761692   2279.734304   985.996166\n",
       "std         30.090047   2266.794470   747.587844\n",
       "min         18.250000      0.000000     0.000000\n",
       "25%         35.500000    398.550000   273.000000\n",
       "50%         70.350000   1394.550000   883.000000\n",
       "75%         89.850000   3786.600000  1676.000000\n",
       "max        118.750000   8684.800000  2191.000000"
      ]
     },
     "execution_count": 28,
     "metadata": {},
     "output_type": "execute_result"
    }
   ],
   "source": [
    "df_contract.describe()"
   ]
  },
  {
   "cell_type": "code",
   "execution_count": 29,
   "id": "4e11549a",
   "metadata": {},
   "outputs": [
    {
     "data": {
      "text/plain": [
       "<AxesSubplot:>"
      ]
     },
     "execution_count": 29,
     "metadata": {},
     "output_type": "execute_result"
    },
    {
     "data": {
      "image/png": "[encoded data removed]",
      "text/plain": [
       "<Figure size 1008x360 with 1 Axes>"
      ]
     },
     "metadata": {},
     "output_type": "display_data"
    }
   ],
   "source": [
    "df_contract['Total_days'].hist(bins=100, figsize=(14, 5))"
   ]
  },
  {
   "cell_type": "markdown",
   "id": "b8f79c2a",
   "metadata": {},
   "source": [
    "по графику видно, что больше всего пользователей которые только подключились, а также тех кто подключился одними из первых"
   ]
  },
  {
   "cell_type": "code",
   "execution_count": 30,
   "id": "79a0f526",
   "metadata": {},
   "outputs": [
    {
     "data": {
      "text/plain": [
       "<AxesSubplot:>"
      ]
     },
     "execution_count": 30,
     "metadata": {},
     "output_type": "execute_result"
    },
    {
     "data": {
      "image/png": "[encoded data removed]",
      "text/plain": [
       "<Figure size 432x288 with 1 Axes>"
      ]
     },
     "metadata": {},
     "output_type": "display_data"
    }
   ],
   "source": [
    "sns.set_theme(style='whitegrid')\n",
    "sns.boxplot(data=df_contract['Total_days'])"
   ]
  },
  {
   "cell_type": "code",
   "execution_count": 31,
   "id": "6ae9e74b",
   "metadata": {},
   "outputs": [
    {
     "data": {
      "text/plain": [
       "31      431\n",
       "2191    362\n",
       "30      182\n",
       "92      169\n",
       "2163    164\n",
       "153     133\n",
       "61      123\n",
       "123     118\n",
       "365     117\n",
       "62      115\n",
       "Name: Total_days, dtype: int64"
      ]
     },
     "execution_count": 31,
     "metadata": {},
     "output_type": "execute_result"
    }
   ],
   "source": [
    "df_contract['Total_days'].value_counts().head(10)"
   ]
  },
  {
   "cell_type": "markdown",
   "id": "4dc042e0",
   "metadata": {},
   "source": [
    "аномалий нет"
   ]
  },
  {
   "cell_type": "markdown",
   "id": "c27bd9be",
   "metadata": {},
   "source": [
    "### Персональные данные клиента"
   ]
  },
  {
   "cell_type": "code",
   "execution_count": 32,
   "id": "0eea1c44",
   "metadata": {},
   "outputs": [],
   "source": [
    "df_personal = pd.read_csv('/Users/pgagp/Downloads/final_provider/personal.csv')"
   ]
  },
  {
   "cell_type": "code",
   "execution_count": 33,
   "id": "7fe4532e",
   "metadata": {},
   "outputs": [
    {
     "data": {
      "text/html": [
       "<div>\n",
       "<style scoped>\n",
       "    .dataframe tbody tr th:only-of-type {\n",
       "        vertical-align: middle;\n",
       "    }\n",
       "\n",
       "    .dataframe tbody tr th {\n",
       "        vertical-align: top;\n",
       "    }\n",
       "\n",
       "    .dataframe thead th {\n",
       "        text-align: right;\n",
       "    }\n",
       "</style>\n",
       "<table border=\"1\" class=\"dataframe\">\n",
       "  <thead>\n",
       "    <tr style=\"text-align: right;\">\n",
       "      <th></th>\n",
       "      <th>customerID</th>\n",
       "      <th>gender</th>\n",
       "      <th>SeniorCitizen</th>\n",
       "      <th>Partner</th>\n",
       "      <th>Dependents</th>\n",
       "    </tr>\n",
       "  </thead>\n",
       "  <tbody>\n",
       "    <tr>\n",
       "      <th>0</th>\n",
       "      <td>7590-VHVEG</td>\n",
       "      <td>Female</td>\n",
       "      <td>0</td>\n",
       "      <td>Yes</td>\n",
       "      <td>No</td>\n",
       "    </tr>\n",
       "    <tr>\n",
       "      <th>1</th>\n",
       "      <td>5575-GNVDE</td>\n",
       "      <td>Male</td>\n",
       "      <td>0</td>\n",
       "      <td>No</td>\n",
       "      <td>No</td>\n",
       "    </tr>\n",
       "    <tr>\n",
       "      <th>2</th>\n",
       "      <td>3668-QPYBK</td>\n",
       "      <td>Male</td>\n",
       "      <td>0</td>\n",
       "      <td>No</td>\n",
       "      <td>No</td>\n",
       "    </tr>\n",
       "    <tr>\n",
       "      <th>3</th>\n",
       "      <td>7795-CFOCW</td>\n",
       "      <td>Male</td>\n",
       "      <td>0</td>\n",
       "      <td>No</td>\n",
       "      <td>No</td>\n",
       "    </tr>\n",
       "    <tr>\n",
       "      <th>4</th>\n",
       "      <td>9237-HQITU</td>\n",
       "      <td>Female</td>\n",
       "      <td>0</td>\n",
       "      <td>No</td>\n",
       "      <td>No</td>\n",
       "    </tr>\n",
       "  </tbody>\n",
       "</table>\n",
       "</div>"
      ],
      "text/plain": [
       "   customerID  gender  SeniorCitizen Partner Dependents\n",
       "0  7590-VHVEG  Female              0     Yes         No\n",
       "1  5575-GNVDE    Male              0      No         No\n",
       "2  3668-QPYBK    Male              0      No         No\n",
       "3  7795-CFOCW    Male              0      No         No\n",
       "4  9237-HQITU  Female              0      No         No"
      ]
     },
     "execution_count": 33,
     "metadata": {},
     "output_type": "execute_result"
    }
   ],
   "source": [
    "df_personal.head(5)"
   ]
  },
  {
   "cell_type": "code",
   "execution_count": 34,
   "id": "c60a864c",
   "metadata": {},
   "outputs": [
    {
     "name": "stdout",
     "output_type": "stream",
     "text": [
      "<class 'pandas.core.frame.DataFrame'>\n",
      "RangeIndex: 7043 entries, 0 to 7042\n",
      "Data columns (total 5 columns):\n",
      " #   Column         Non-Null Count  Dtype \n",
      "---  ------         --------------  ----- \n",
      " 0   customerID     7043 non-null   object\n",
      " 1   gender         7043 non-null   object\n",
      " 2   SeniorCitizen  7043 non-null   int64 \n",
      " 3   Partner        7043 non-null   object\n",
      " 4   Dependents     7043 non-null   object\n",
      "dtypes: int64(1), object(4)\n",
      "memory usage: 275.2+ KB\n"
     ]
    }
   ],
   "source": [
    "df_personal.info()"
   ]
  },
  {
   "cell_type": "code",
   "execution_count": 35,
   "id": "9c6d6c8e",
   "metadata": {},
   "outputs": [],
   "source": [
    "per = df_personal.drop('customerID', axis=1)"
   ]
  },
  {
   "cell_type": "code",
   "execution_count": 36,
   "id": "9b75660f",
   "metadata": {
    "scrolled": true
   },
   "outputs": [
    {
     "data": {
      "image/png": "[encoded data removed]",
      "text/plain": [
       "<Figure size 216x216 with 1 Axes>"
      ]
     },
     "metadata": {},
     "output_type": "display_data"
    },
    {
     "data": {
      "image/png": "[encoded data removed]",
      "text/plain": [
       "<Figure size 216x216 with 1 Axes>"
      ]
     },
     "metadata": {},
     "output_type": "display_data"
    },
    {
     "data": {
      "image/png": "[encoded data removed]",
      "text/plain": [
       "<Figure size 216x216 with 1 Axes>"
      ]
     },
     "metadata": {},
     "output_type": "display_data"
    },
    {
     "data": {
      "image/png": "[encoded data removed]",
      "text/plain": [
       "<Figure size 216x216 with 1 Axes>"
      ]
     },
     "metadata": {},
     "output_type": "display_data"
    }
   ],
   "source": [
    "for col in per:\n",
    "    sns.set_theme(style='whitegrid')\n",
    "    s = sns.FacetGrid(data=per)\n",
    "    s.map(sns.histplot, col)"
   ]
  },
  {
   "cell_type": "markdown",
   "id": "bdd063a4",
   "metadata": {},
   "source": [
    "## Обучение моделей"
   ]
  },
  {
   "cell_type": "markdown",
   "id": "d3f58c11",
   "metadata": {},
   "source": [
    "### Подготовка данных к обучению"
   ]
  },
  {
   "cell_type": "markdown",
   "id": "2cffad55",
   "metadata": {},
   "source": [
    "объединяю все датасеты в один"
   ]
  },
  {
   "cell_type": "code",
   "execution_count": 37,
   "id": "eb3c8fe2",
   "metadata": {},
   "outputs": [
    {
     "data": {
      "text/html": [
       "<div>\n",
       "<style scoped>\n",
       "    .dataframe tbody tr th:only-of-type {\n",
       "        vertical-align: middle;\n",
       "    }\n",
       "\n",
       "    .dataframe tbody tr th {\n",
       "        vertical-align: top;\n",
       "    }\n",
       "\n",
       "    .dataframe thead th {\n",
       "        text-align: right;\n",
       "    }\n",
       "</style>\n",
       "<table border=\"1\" class=\"dataframe\">\n",
       "  <thead>\n",
       "    <tr style=\"text-align: right;\">\n",
       "      <th></th>\n",
       "      <th>customerID</th>\n",
       "      <th>BeginDate</th>\n",
       "      <th>EndDate</th>\n",
       "      <th>Type</th>\n",
       "      <th>PaperlessBilling</th>\n",
       "      <th>PaymentMethod</th>\n",
       "      <th>MonthlyCharges</th>\n",
       "      <th>TotalCharges</th>\n",
       "      <th>Total_days</th>\n",
       "      <th>gender</th>\n",
       "      <th>...</th>\n",
       "      <th>Partner</th>\n",
       "      <th>Dependents</th>\n",
       "      <th>InternetService</th>\n",
       "      <th>OnlineSecurity</th>\n",
       "      <th>OnlineBackup</th>\n",
       "      <th>DeviceProtection</th>\n",
       "      <th>TechSupport</th>\n",
       "      <th>StreamingTV</th>\n",
       "      <th>StreamingMovies</th>\n",
       "      <th>MultipleLines</th>\n",
       "    </tr>\n",
       "  </thead>\n",
       "  <tbody>\n",
       "    <tr>\n",
       "      <th>0</th>\n",
       "      <td>7590-VHVEG</td>\n",
       "      <td>2020-01-01</td>\n",
       "      <td>2020-02-01</td>\n",
       "      <td>Month-to-month</td>\n",
       "      <td>Yes</td>\n",
       "      <td>Electronic check</td>\n",
       "      <td>29.85</td>\n",
       "      <td>29.85</td>\n",
       "      <td>31</td>\n",
       "      <td>Female</td>\n",
       "      <td>...</td>\n",
       "      <td>Yes</td>\n",
       "      <td>No</td>\n",
       "      <td>DSL</td>\n",
       "      <td>No</td>\n",
       "      <td>Yes</td>\n",
       "      <td>No</td>\n",
       "      <td>No</td>\n",
       "      <td>No</td>\n",
       "      <td>No</td>\n",
       "      <td>NaN</td>\n",
       "    </tr>\n",
       "    <tr>\n",
       "      <th>1</th>\n",
       "      <td>5575-GNVDE</td>\n",
       "      <td>2017-04-01</td>\n",
       "      <td>2020-02-01</td>\n",
       "      <td>One year</td>\n",
       "      <td>No</td>\n",
       "      <td>Mailed check</td>\n",
       "      <td>56.95</td>\n",
       "      <td>1889.50</td>\n",
       "      <td>1036</td>\n",
       "      <td>Male</td>\n",
       "      <td>...</td>\n",
       "      <td>No</td>\n",
       "      <td>No</td>\n",
       "      <td>DSL</td>\n",
       "      <td>Yes</td>\n",
       "      <td>No</td>\n",
       "      <td>Yes</td>\n",
       "      <td>No</td>\n",
       "      <td>No</td>\n",
       "      <td>No</td>\n",
       "      <td>No</td>\n",
       "    </tr>\n",
       "    <tr>\n",
       "      <th>2</th>\n",
       "      <td>3668-QPYBK</td>\n",
       "      <td>2019-10-01</td>\n",
       "      <td>2019-12-01</td>\n",
       "      <td>Month-to-month</td>\n",
       "      <td>Yes</td>\n",
       "      <td>Mailed check</td>\n",
       "      <td>53.85</td>\n",
       "      <td>108.15</td>\n",
       "      <td>61</td>\n",
       "      <td>Male</td>\n",
       "      <td>...</td>\n",
       "      <td>No</td>\n",
       "      <td>No</td>\n",
       "      <td>DSL</td>\n",
       "      <td>Yes</td>\n",
       "      <td>Yes</td>\n",
       "      <td>No</td>\n",
       "      <td>No</td>\n",
       "      <td>No</td>\n",
       "      <td>No</td>\n",
       "      <td>No</td>\n",
       "    </tr>\n",
       "    <tr>\n",
       "      <th>3</th>\n",
       "      <td>7795-CFOCW</td>\n",
       "      <td>2016-05-01</td>\n",
       "      <td>2020-02-01</td>\n",
       "      <td>One year</td>\n",
       "      <td>No</td>\n",
       "      <td>Bank transfer (automatic)</td>\n",
       "      <td>42.30</td>\n",
       "      <td>1840.75</td>\n",
       "      <td>1371</td>\n",
       "      <td>Male</td>\n",
       "      <td>...</td>\n",
       "      <td>No</td>\n",
       "      <td>No</td>\n",
       "      <td>DSL</td>\n",
       "      <td>Yes</td>\n",
       "      <td>No</td>\n",
       "      <td>Yes</td>\n",
       "      <td>Yes</td>\n",
       "      <td>No</td>\n",
       "      <td>No</td>\n",
       "      <td>NaN</td>\n",
       "    </tr>\n",
       "    <tr>\n",
       "      <th>4</th>\n",
       "      <td>9237-HQITU</td>\n",
       "      <td>2019-09-01</td>\n",
       "      <td>2019-11-01</td>\n",
       "      <td>Month-to-month</td>\n",
       "      <td>Yes</td>\n",
       "      <td>Electronic check</td>\n",
       "      <td>70.70</td>\n",
       "      <td>151.65</td>\n",
       "      <td>61</td>\n",
       "      <td>Female</td>\n",
       "      <td>...</td>\n",
       "      <td>No</td>\n",
       "      <td>No</td>\n",
       "      <td>Fiber optic</td>\n",
       "      <td>No</td>\n",
       "      <td>No</td>\n",
       "      <td>No</td>\n",
       "      <td>No</td>\n",
       "      <td>No</td>\n",
       "      <td>No</td>\n",
       "      <td>No</td>\n",
       "    </tr>\n",
       "  </tbody>\n",
       "</table>\n",
       "<p>5 rows × 21 columns</p>\n",
       "</div>"
      ],
      "text/plain": [
       "   customerID  BeginDate    EndDate            Type PaperlessBilling  \\\n",
       "0  7590-VHVEG 2020-01-01 2020-02-01  Month-to-month              Yes   \n",
       "1  5575-GNVDE 2017-04-01 2020-02-01        One year               No   \n",
       "2  3668-QPYBK 2019-10-01 2019-12-01  Month-to-month              Yes   \n",
       "3  7795-CFOCW 2016-05-01 2020-02-01        One year               No   \n",
       "4  9237-HQITU 2019-09-01 2019-11-01  Month-to-month              Yes   \n",
       "\n",
       "               PaymentMethod  MonthlyCharges  TotalCharges  Total_days  \\\n",
       "0           Electronic check           29.85         29.85          31   \n",
       "1               Mailed check           56.95       1889.50        1036   \n",
       "2               Mailed check           53.85        108.15          61   \n",
       "3  Bank transfer (automatic)           42.30       1840.75        1371   \n",
       "4           Electronic check           70.70        151.65          61   \n",
       "\n",
       "   gender  ...  Partner Dependents InternetService OnlineSecurity  \\\n",
       "0  Female  ...      Yes         No             DSL             No   \n",
       "1    Male  ...       No         No             DSL            Yes   \n",
       "2    Male  ...       No         No             DSL            Yes   \n",
       "3    Male  ...       No         No             DSL            Yes   \n",
       "4  Female  ...       No         No     Fiber optic             No   \n",
       "\n",
       "  OnlineBackup DeviceProtection TechSupport StreamingTV StreamingMovies  \\\n",
       "0          Yes               No          No          No              No   \n",
       "1           No              Yes          No          No              No   \n",
       "2          Yes               No          No          No              No   \n",
       "3           No              Yes         Yes          No              No   \n",
       "4           No               No          No          No              No   \n",
       "\n",
       "  MultipleLines  \n",
       "0           NaN  \n",
       "1            No  \n",
       "2            No  \n",
       "3           NaN  \n",
       "4            No  \n",
       "\n",
       "[5 rows x 21 columns]"
      ]
     },
     "execution_count": 37,
     "metadata": {},
     "output_type": "execute_result"
    }
   ],
   "source": [
    "dfs = [df_contract, df_personal, df_internet, df_phone]\n",
    "df = ft.reduce(lambda left, right: pd.merge(left, right, on='customerID', how='outer'), dfs)\n",
    "df.head()"
   ]
  },
  {
   "cell_type": "code",
   "execution_count": 38,
   "id": "47b1713b",
   "metadata": {},
   "outputs": [
    {
     "name": "stdout",
     "output_type": "stream",
     "text": [
      "<class 'pandas.core.frame.DataFrame'>\n",
      "Int64Index: 7043 entries, 0 to 7042\n",
      "Data columns (total 21 columns):\n",
      " #   Column            Non-Null Count  Dtype         \n",
      "---  ------            --------------  -----         \n",
      " 0   customerID        7043 non-null   object        \n",
      " 1   BeginDate         7043 non-null   datetime64[ns]\n",
      " 2   EndDate           7043 non-null   datetime64[ns]\n",
      " 3   Type              7043 non-null   object        \n",
      " 4   PaperlessBilling  7043 non-null   object        \n",
      " 5   PaymentMethod     7043 non-null   object        \n",
      " 6   MonthlyCharges    7043 non-null   float64       \n",
      " 7   TotalCharges      7043 non-null   float64       \n",
      " 8   Total_days        7043 non-null   int64         \n",
      " 9   gender            7043 non-null   object        \n",
      " 10  SeniorCitizen     7043 non-null   int64         \n",
      " 11  Partner           7043 non-null   object        \n",
      " 12  Dependents        7043 non-null   object        \n",
      " 13  InternetService   5517 non-null   object        \n",
      " 14  OnlineSecurity    5517 non-null   object        \n",
      " 15  OnlineBackup      5517 non-null   object        \n",
      " 16  DeviceProtection  5517 non-null   object        \n",
      " 17  TechSupport       5517 non-null   object        \n",
      " 18  StreamingTV       5517 non-null   object        \n",
      " 19  StreamingMovies   5517 non-null   object        \n",
      " 20  MultipleLines     6361 non-null   object        \n",
      "dtypes: datetime64[ns](2), float64(2), int64(2), object(15)\n",
      "memory usage: 1.2+ MB\n"
     ]
    }
   ],
   "source": [
    "df.info()"
   ]
  },
  {
   "cell_type": "markdown",
   "id": "5e622718",
   "metadata": {},
   "source": [
    "посмотрю распределение пропусков"
   ]
  },
  {
   "cell_type": "code",
   "execution_count": 39,
   "id": "e961fe15",
   "metadata": {},
   "outputs": [
    {
     "data": {
      "text/plain": [
       "<AxesSubplot:>"
      ]
     },
     "execution_count": 39,
     "metadata": {},
     "output_type": "execute_result"
    },
    {
     "data": {
      "image/png": "[encoded data removed]",
      "text/plain": [
       "<Figure size 1800x720 with 2 Axes>"
      ]
     },
     "metadata": {},
     "output_type": "display_data"
    }
   ],
   "source": [
    "msno.matrix(df)"
   ]
  },
  {
   "cell_type": "markdown",
   "id": "a8bf7ba8",
   "metadata": {},
   "source": [
    "Известно из условия, что компания предоставляет 2 основных типа услуг - связь и интернет. Все дополнительные услуги связаны с интернетом, тогда пропуски означают, что данные пользователи используют только услуги связи. А пропуски в MultipleLines наоборот, что пользователи подключили только интернет."
   ]
  },
  {
   "cell_type": "code",
   "execution_count": 40,
   "id": "9214d2ae",
   "metadata": {},
   "outputs": [
    {
     "data": {
      "text/html": [
       "<div>\n",
       "<style scoped>\n",
       "    .dataframe tbody tr th:only-of-type {\n",
       "        vertical-align: middle;\n",
       "    }\n",
       "\n",
       "    .dataframe tbody tr th {\n",
       "        vertical-align: top;\n",
       "    }\n",
       "\n",
       "    .dataframe thead th {\n",
       "        text-align: right;\n",
       "    }\n",
       "</style>\n",
       "<table border=\"1\" class=\"dataframe\">\n",
       "  <thead>\n",
       "    <tr style=\"text-align: right;\">\n",
       "      <th></th>\n",
       "      <th>customerID</th>\n",
       "      <th>BeginDate</th>\n",
       "      <th>EndDate</th>\n",
       "      <th>Type</th>\n",
       "      <th>PaperlessBilling</th>\n",
       "      <th>PaymentMethod</th>\n",
       "      <th>MonthlyCharges</th>\n",
       "      <th>TotalCharges</th>\n",
       "      <th>Total_days</th>\n",
       "      <th>gender</th>\n",
       "      <th>...</th>\n",
       "      <th>Partner</th>\n",
       "      <th>Dependents</th>\n",
       "      <th>InternetService</th>\n",
       "      <th>OnlineSecurity</th>\n",
       "      <th>OnlineBackup</th>\n",
       "      <th>DeviceProtection</th>\n",
       "      <th>TechSupport</th>\n",
       "      <th>StreamingTV</th>\n",
       "      <th>StreamingMovies</th>\n",
       "      <th>MultipleLines</th>\n",
       "    </tr>\n",
       "  </thead>\n",
       "  <tbody>\n",
       "  </tbody>\n",
       "</table>\n",
       "<p>0 rows × 21 columns</p>\n",
       "</div>"
      ],
      "text/plain": [
       "Empty DataFrame\n",
       "Columns: [customerID, BeginDate, EndDate, Type, PaperlessBilling, PaymentMethod, MonthlyCharges, TotalCharges, Total_days, gender, SeniorCitizen, Partner, Dependents, InternetService, OnlineSecurity, OnlineBackup, DeviceProtection, TechSupport, StreamingTV, StreamingMovies, MultipleLines]\n",
       "Index: []\n",
       "\n",
       "[0 rows x 21 columns]"
      ]
     },
     "execution_count": 40,
     "metadata": {},
     "output_type": "execute_result"
    }
   ],
   "source": [
    "df[df['InternetService'].isna() & df['MultipleLines'].isna()]"
   ]
  },
  {
   "cell_type": "markdown",
   "id": "ce3085b3",
   "metadata": {},
   "source": [
    "нет пользователей у которых были бы пропуски в столбцах с услугами связи и интернета одновременно, значит могу заполнить пропуски 3 значением - \"отключен\" (disabled)"
   ]
  },
  {
   "cell_type": "code",
   "execution_count": 41,
   "id": "9a070f54",
   "metadata": {},
   "outputs": [
    {
     "data": {
      "text/plain": [
       "customerID          0\n",
       "BeginDate           0\n",
       "EndDate             0\n",
       "Type                0\n",
       "PaperlessBilling    0\n",
       "PaymentMethod       0\n",
       "MonthlyCharges      0\n",
       "TotalCharges        0\n",
       "Total_days          0\n",
       "gender              0\n",
       "SeniorCitizen       0\n",
       "Partner             0\n",
       "Dependents          0\n",
       "InternetService     0\n",
       "OnlineSecurity      0\n",
       "OnlineBackup        0\n",
       "DeviceProtection    0\n",
       "TechSupport         0\n",
       "StreamingTV         0\n",
       "StreamingMovies     0\n",
       "MultipleLines       0\n",
       "dtype: int64"
      ]
     },
     "execution_count": 41,
     "metadata": {},
     "output_type": "execute_result"
    }
   ],
   "source": [
    "df = df.fillna('No')\n",
    "df.isna().sum()"
   ]
  },
  {
   "cell_type": "markdown",
   "id": "b60b6a44",
   "metadata": {},
   "source": [
    "также данная информация дает возможность создать новый признак - тип услуги, которым пользуется клиент."
   ]
  },
  {
   "cell_type": "code",
   "execution_count": 42,
   "id": "3a6a9a0b",
   "metadata": {},
   "outputs": [],
   "source": [
    "df['Service_type'] = np.where(\n",
    "    df['InternetService'] == 'No', 'stationary_phones', np.where(\n",
    "    df['MultipleLines'] == 'No', 'internet', 'all'))"
   ]
  },
  {
   "cell_type": "code",
   "execution_count": 43,
   "id": "daf509b2",
   "metadata": {},
   "outputs": [
    {
     "data": {
      "text/plain": [
       "internet             2888\n",
       "all                  2629\n",
       "stationary_phones    1526\n",
       "Name: Service_type, dtype: int64"
      ]
     },
     "execution_count": 43,
     "metadata": {},
     "output_type": "execute_result"
    }
   ],
   "source": [
    "df['Service_type'].value_counts()"
   ]
  },
  {
   "cell_type": "markdown",
   "id": "ea38a8c6",
   "metadata": {},
   "source": [
    "выделяю целевой призкан Churn по столбцу EndDate"
   ]
  },
  {
   "cell_type": "code",
   "execution_count": 44,
   "id": "ed20f05f",
   "metadata": {},
   "outputs": [],
   "source": [
    "df['Churn'] = (df['EndDate'] != '2020-02-01').astype(int)"
   ]
  },
  {
   "cell_type": "markdown",
   "id": "23fb42c2",
   "metadata": {},
   "source": [
    "удаляю столбцы EndDate, BeginDate и customerID т.к. они бесполезны как признаки;"
   ]
  },
  {
   "cell_type": "code",
   "execution_count": 45,
   "id": "ea5f25cb",
   "metadata": {},
   "outputs": [],
   "source": [
    "df = df.drop(['EndDate', 'BeginDate', 'customerID'], axis=1)"
   ]
  },
  {
   "cell_type": "code",
   "execution_count": 46,
   "id": "2adbca36",
   "metadata": {},
   "outputs": [
    {
     "data": {
      "image/png": "[encoded data removed]",
      "text/plain": [
       "<Figure size 1800x720 with 2 Axes>"
      ]
     },
     "metadata": {},
     "output_type": "display_data"
    }
   ],
   "source": [
    "plt.figure(figsize=(25, 10))\n",
    "corr = df.corr()\n",
    "mask = np.triu(np.ones_like(corr, dtype=bool))\n",
    "ax = sns.heatmap(corr, mask=mask, xticklabels=corr.columns, yticklabels=corr.columns, \n",
    "                 annot=True, linewidths=.2, cmap='coolwarm', vmin=-1, vmax=1)"
   ]
  },
  {
   "cell_type": "markdown",
   "id": "dee848cf",
   "metadata": {},
   "source": [
    "Сильная связь между total_charges и total_days, monthly_charges"
   ]
  },
  {
   "cell_type": "markdown",
   "id": "9d576d79",
   "metadata": {},
   "source": [
    "### Кодировка признаков"
   ]
  },
  {
   "cell_type": "code",
   "execution_count": 47,
   "id": "7afaeebf",
   "metadata": {},
   "outputs": [],
   "source": [
    "df['SeniorCitizen'] = df['SeniorCitizen'].map({0: 'No', 1: 'Yes'})"
   ]
  },
  {
   "cell_type": "code",
   "execution_count": 48,
   "id": "61dc5c96",
   "metadata": {},
   "outputs": [
    {
     "data": {
      "text/plain": [
       "Index(['Type', 'PaperlessBilling', 'PaymentMethod', 'gender', 'SeniorCitizen',\n",
       "       'Partner', 'Dependents', 'InternetService', 'OnlineSecurity',\n",
       "       'OnlineBackup', 'DeviceProtection', 'TechSupport', 'StreamingTV',\n",
       "       'StreamingMovies', 'MultipleLines', 'Service_type'],\n",
       "      dtype='object')"
      ]
     },
     "execution_count": 48,
     "metadata": {},
     "output_type": "execute_result"
    }
   ],
   "source": [
    "categor_cols = df.select_dtypes(['object']).columns\n",
    "categor_cols"
   ]
  },
  {
   "cell_type": "markdown",
   "id": "196487fa",
   "metadata": {},
   "source": [
    "Для кодировки категориальных данных буду использовать метод get_dummies, т.к. данные являются номинальными."
   ]
  },
  {
   "cell_type": "code",
   "execution_count": 49,
   "id": "49e222f9",
   "metadata": {},
   "outputs": [],
   "source": [
    "df = pd.get_dummies(df, columns = categor_cols, drop_first = True)"
   ]
  },
  {
   "cell_type": "code",
   "execution_count": 50,
   "id": "55b6b35c",
   "metadata": {},
   "outputs": [
    {
     "data": {
      "text/plain": [
       "Churn                                    1.000000\n",
       "InternetService_Fiber optic              0.308020\n",
       "PaymentMethod_Electronic check           0.301919\n",
       "MonthlyCharges                           0.193356\n",
       "PaperlessBilling_Yes                     0.191825\n",
       "SeniorCitizen_Yes                        0.150889\n",
       "Service_type_internet                    0.097819\n",
       "StreamingTV_Yes                          0.063228\n",
       "StreamingMovies_Yes                      0.061382\n",
       "MultipleLines_Yes                        0.040102\n",
       "gender_Male                             -0.008612\n",
       "DeviceProtection_Yes                    -0.066160\n",
       "OnlineBackup_Yes                        -0.082255\n",
       "PaymentMethod_Mailed check              -0.091683\n",
       "PaymentMethod_Credit card (automatic)   -0.134302\n",
       "Partner_Yes                             -0.150448\n",
       "Dependents_Yes                          -0.164221\n",
       "TechSupport_Yes                         -0.164674\n",
       "OnlineSecurity_Yes                      -0.171226\n",
       "Type_One year                           -0.177820\n",
       "TotalCharges                            -0.198324\n",
       "InternetService_No                      -0.227890\n",
       "Service_type_stationary_phones          -0.227890\n",
       "Type_Two year                           -0.302253\n",
       "Total_days                              -0.352673\n",
       "Name: Churn, dtype: float64"
      ]
     },
     "execution_count": 50,
     "metadata": {},
     "output_type": "execute_result"
    }
   ],
   "source": [
    "df.corr()['Churn'].sort_values(ascending = False)"
   ]
  },
  {
   "cell_type": "markdown",
   "id": "1a89c4a8",
   "metadata": {},
   "source": [
    "### Дисбаланс классов"
   ]
  },
  {
   "cell_type": "code",
   "execution_count": 51,
   "id": "6e243de8",
   "metadata": {},
   "outputs": [
    {
     "name": "stdout",
     "output_type": "stream",
     "text": [
      "0    5174\n",
      "1    1869\n",
      "Name: Churn, dtype: int64\n"
     ]
    },
    {
     "data": {
      "text/plain": [
       "<AxesSubplot:xlabel='Churn', ylabel='Count'>"
      ]
     },
     "execution_count": 51,
     "metadata": {},
     "output_type": "execute_result"
    },
    {
     "data": {
      "image/png": "[encoded data removed]",
      "text/plain": [
       "<Figure size 432x288 with 1 Axes>"
      ]
     },
     "metadata": {},
     "output_type": "display_data"
    }
   ],
   "source": [
    "print(df['Churn'].value_counts())\n",
    "sns.histplot(data=df['Churn'])"
   ]
  },
  {
   "cell_type": "markdown",
   "id": "540a1deb",
   "metadata": {},
   "source": [
    "у целевого признака довольно сильный дисбаланс классов, для борьбы с ним я буду использовать параметр class_weight='balanced', для catboost - scale_pos_weight "
   ]
  },
  {
   "cell_type": "markdown",
   "id": "c411d328",
   "metadata": {},
   "source": [
    "### Масштабирование количественных признаков"
   ]
  },
  {
   "cell_type": "code",
   "execution_count": 52,
   "id": "768aeb65",
   "metadata": {},
   "outputs": [
    {
     "data": {
      "text/html": [
       "<div>\n",
       "<style scoped>\n",
       "    .dataframe tbody tr th:only-of-type {\n",
       "        vertical-align: middle;\n",
       "    }\n",
       "\n",
       "    .dataframe tbody tr th {\n",
       "        vertical-align: top;\n",
       "    }\n",
       "\n",
       "    .dataframe thead th {\n",
       "        text-align: right;\n",
       "    }\n",
       "</style>\n",
       "<table border=\"1\" class=\"dataframe\">\n",
       "  <thead>\n",
       "    <tr style=\"text-align: right;\">\n",
       "      <th></th>\n",
       "      <th>MonthlyCharges</th>\n",
       "      <th>TotalCharges</th>\n",
       "      <th>Total_days</th>\n",
       "    </tr>\n",
       "  </thead>\n",
       "  <tbody>\n",
       "    <tr>\n",
       "      <th>count</th>\n",
       "      <td>7043.000000</td>\n",
       "      <td>7043.000000</td>\n",
       "      <td>7043.000000</td>\n",
       "    </tr>\n",
       "    <tr>\n",
       "      <th>mean</th>\n",
       "      <td>64.761692</td>\n",
       "      <td>2279.734304</td>\n",
       "      <td>985.996166</td>\n",
       "    </tr>\n",
       "    <tr>\n",
       "      <th>std</th>\n",
       "      <td>30.090047</td>\n",
       "      <td>2266.794470</td>\n",
       "      <td>747.587844</td>\n",
       "    </tr>\n",
       "    <tr>\n",
       "      <th>min</th>\n",
       "      <td>18.250000</td>\n",
       "      <td>0.000000</td>\n",
       "      <td>0.000000</td>\n",
       "    </tr>\n",
       "    <tr>\n",
       "      <th>25%</th>\n",
       "      <td>35.500000</td>\n",
       "      <td>398.550000</td>\n",
       "      <td>273.000000</td>\n",
       "    </tr>\n",
       "    <tr>\n",
       "      <th>50%</th>\n",
       "      <td>70.350000</td>\n",
       "      <td>1394.550000</td>\n",
       "      <td>883.000000</td>\n",
       "    </tr>\n",
       "    <tr>\n",
       "      <th>75%</th>\n",
       "      <td>89.850000</td>\n",
       "      <td>3786.600000</td>\n",
       "      <td>1676.000000</td>\n",
       "    </tr>\n",
       "    <tr>\n",
       "      <th>max</th>\n",
       "      <td>118.750000</td>\n",
       "      <td>8684.800000</td>\n",
       "      <td>2191.000000</td>\n",
       "    </tr>\n",
       "  </tbody>\n",
       "</table>\n",
       "</div>"
      ],
      "text/plain": [
       "       MonthlyCharges  TotalCharges   Total_days\n",
       "count     7043.000000   7043.000000  7043.000000\n",
       "mean        64.761692   2279.734304   985.996166\n",
       "std         30.090047   2266.794470   747.587844\n",
       "min         18.250000      0.000000     0.000000\n",
       "25%         35.500000    398.550000   273.000000\n",
       "50%         70.350000   1394.550000   883.000000\n",
       "75%         89.850000   3786.600000  1676.000000\n",
       "max        118.750000   8684.800000  2191.000000"
      ]
     },
     "execution_count": 52,
     "metadata": {},
     "output_type": "execute_result"
    }
   ],
   "source": [
    "df[['MonthlyCharges', 'TotalCharges', 'Total_days']].describe()"
   ]
  },
  {
   "cell_type": "code",
   "execution_count": 53,
   "id": "3957b086",
   "metadata": {},
   "outputs": [],
   "source": [
    "X = df.drop(columns = ['Churn'])\n",
    "y = df['Churn']"
   ]
  },
  {
   "cell_type": "code",
   "execution_count": 54,
   "id": "1942037e",
   "metadata": {},
   "outputs": [],
   "source": [
    "X_train, X_test, y_train, y_test = train_test_split(X,y, test_size = 0.25, random_state = r_s, shuffle=False)"
   ]
  },
  {
   "cell_type": "code",
   "execution_count": 55,
   "id": "e39a9454",
   "metadata": {},
   "outputs": [],
   "source": [
    "num_cols = df[['MonthlyCharges', 'TotalCharges', 'Total_days']].columns\n",
    "\n",
    "scaler= StandardScaler()\n",
    "X_train[num_cols] = scaler.fit_transform(X_train[num_cols])\n",
    "X_test[num_cols] = scaler.transform(X_test[num_cols])"
   ]
  },
  {
   "cell_type": "markdown",
   "id": "cb134fb0",
   "metadata": {},
   "source": [
    "теперь данные готовы к обучению"
   ]
  },
  {
   "cell_type": "code",
   "execution_count": 56,
   "id": "5db002df",
   "metadata": {},
   "outputs": [
    {
     "name": "stdout",
     "output_type": "stream",
     "text": [
      "<class 'pandas.core.frame.DataFrame'>\n",
      "Int64Index: 5282 entries, 0 to 5281\n",
      "Data columns (total 24 columns):\n",
      " #   Column                                 Non-Null Count  Dtype  \n",
      "---  ------                                 --------------  -----  \n",
      " 0   MonthlyCharges                         5282 non-null   float64\n",
      " 1   TotalCharges                           5282 non-null   float64\n",
      " 2   Total_days                             5282 non-null   float64\n",
      " 3   Type_One year                          5282 non-null   uint8  \n",
      " 4   Type_Two year                          5282 non-null   uint8  \n",
      " 5   PaperlessBilling_Yes                   5282 non-null   uint8  \n",
      " 6   PaymentMethod_Credit card (automatic)  5282 non-null   uint8  \n",
      " 7   PaymentMethod_Electronic check         5282 non-null   uint8  \n",
      " 8   PaymentMethod_Mailed check             5282 non-null   uint8  \n",
      " 9   gender_Male                            5282 non-null   uint8  \n",
      " 10  SeniorCitizen_Yes                      5282 non-null   uint8  \n",
      " 11  Partner_Yes                            5282 non-null   uint8  \n",
      " 12  Dependents_Yes                         5282 non-null   uint8  \n",
      " 13  InternetService_Fiber optic            5282 non-null   uint8  \n",
      " 14  InternetService_No                     5282 non-null   uint8  \n",
      " 15  OnlineSecurity_Yes                     5282 non-null   uint8  \n",
      " 16  OnlineBackup_Yes                       5282 non-null   uint8  \n",
      " 17  DeviceProtection_Yes                   5282 non-null   uint8  \n",
      " 18  TechSupport_Yes                        5282 non-null   uint8  \n",
      " 19  StreamingTV_Yes                        5282 non-null   uint8  \n",
      " 20  StreamingMovies_Yes                    5282 non-null   uint8  \n",
      " 21  MultipleLines_Yes                      5282 non-null   uint8  \n",
      " 22  Service_type_internet                  5282 non-null   uint8  \n",
      " 23  Service_type_stationary_phones         5282 non-null   uint8  \n",
      "dtypes: float64(3), uint8(21)\n",
      "memory usage: 273.4 KB\n"
     ]
    }
   ],
   "source": [
    "X_train.info()"
   ]
  },
  {
   "cell_type": "markdown",
   "id": "7226e438",
   "metadata": {},
   "source": [
    "## Обучение моделей"
   ]
  },
  {
   "cell_type": "markdown",
   "id": "122cf6b6",
   "metadata": {},
   "source": [
    "### Logistic Regression"
   ]
  },
  {
   "cell_type": "code",
   "execution_count": 57,
   "id": "58a4932e",
   "metadata": {},
   "outputs": [
    {
     "name": "stdout",
     "output_type": "stream",
     "text": [
      "roc-auc 0.8463076827806182\n",
      "CPU times: user 1.72 s, sys: 32.7 ms, total: 1.76 s\n",
      "Wall time: 916 ms\n"
     ]
    }
   ],
   "source": [
    "%%time\n",
    "\n",
    "lr = LogisticRegression(class_weight='balanced')\n",
    "\n",
    "lr_param = {'C': [0.001, 0.01, 0.1, 1, 10, 100, 1000]}\n",
    "cv = KFold(n_splits=5, shuffle=True, random_state=r_s)\n",
    "\n",
    "lr_model = GridSearchCV(lr, lr_param, scoring='roc_auc', cv=cv)\n",
    "lr_model.fit(X_train, y_train)\n",
    "print('roc-auc', lr_model.best_score_)"
   ]
  },
  {
   "cell_type": "markdown",
   "id": "f5a1c2ad",
   "metadata": {},
   "source": [
    "### RandomForestClassifier"
   ]
  },
  {
   "cell_type": "code",
   "execution_count": 58,
   "id": "028b2e3e",
   "metadata": {},
   "outputs": [],
   "source": [
    "rf = RandomForestClassifier(random_state=r_s, class_weight='balanced')\n",
    "\n",
    "param_grid = { \n",
    "    'n_estimators': [30, 60, 100, 130],\n",
    "    'max_depth' : [5,6,7,10],\n",
    "    'criterion' :['gini', 'entropy']\n",
    "}\n",
    "\n",
    "cv = KFold(n_splits=7, shuffle=True, random_state=r_s)"
   ]
  },
  {
   "cell_type": "code",
   "execution_count": 59,
   "id": "fa36bbc8",
   "metadata": {},
   "outputs": [
    {
     "name": "stdout",
     "output_type": "stream",
     "text": [
      "roc-auc 0.858063916589146\n",
      "CPU times: user 57.5 s, sys: 646 ms, total: 58.2 s\n",
      "Wall time: 58.4 s\n"
     ]
    }
   ],
   "source": [
    "%%time\n",
    "\n",
    "model_rf = GridSearchCV(estimator=rf, param_grid=param_grid, scoring='roc_auc', cv=cv)\n",
    "model_rf.fit(X_train, y_train)\n",
    "print('roc-auc', model_rf.best_score_)"
   ]
  },
  {
   "cell_type": "markdown",
   "id": "cd10952d",
   "metadata": {},
   "source": [
    "### CatBoostClassifier"
   ]
  },
  {
   "cell_type": "code",
   "execution_count": 60,
   "id": "673c9c5e",
   "metadata": {},
   "outputs": [],
   "source": [
    "param_cb = {'depth': [4,5,6,7,8,9,10],\n",
    "            'learning_rate': [0.01,0.05, 0.9],\n",
    "            'iterations': [4, 8, 12, 20] }\n",
    "\n",
    "cv = KFold(n_splits=7, shuffle=True, random_state=r_s)\n",
    "\n",
    "cbc = CatBoostClassifier(random_state=r_s, verbose=0, scale_pos_weight=2.8)"
   ]
  },
  {
   "cell_type": "code",
   "execution_count": 61,
   "id": "c874b370",
   "metadata": {},
   "outputs": [
    {
     "name": "stdout",
     "output_type": "stream",
     "text": [
      "roc-auc 0.8768874475468146\n",
      "CPU times: user 1min 49s, sys: 3.33 s, total: 1min 52s\n",
      "Wall time: 41.1 s\n"
     ]
    }
   ],
   "source": [
    "%%time\n",
    "model_cbc = GridSearchCV(estimator=cbc, param_grid = param_cb, cv = cv, scoring='roc_auc')\n",
    "model_cbc.fit(X_train, y_train)\n",
    "print('roc-auc', model_cbc.best_score_)"
   ]
  },
  {
   "cell_type": "markdown",
   "id": "f9b305c0",
   "metadata": {},
   "source": [
    "лучшую метрику roc-auc показала модель CatBoostClassifier"
   ]
  },
  {
   "cell_type": "markdown",
   "id": "a4e81c62",
   "metadata": {},
   "source": [
    "### Проверка модели на тестовой выборке"
   ]
  },
  {
   "cell_type": "code",
   "execution_count": 71,
   "id": "0cadd1e7",
   "metadata": {},
   "outputs": [
    {
     "name": "stdout",
     "output_type": "stream",
     "text": [
      "roc-auc 0.8812403495595047\n"
     ]
    },
    {
     "data": {
      "image/png": "[encoded data removed]",
      "text/plain": [
       "<Figure size 432x288 with 1 Axes>"
      ]
     },
     "metadata": {},
     "output_type": "display_data"
    },
    {
     "data": {
      "image/png": "[encoded data removed]",
      "text/plain": [
       "<Figure size 432x288 with 1 Axes>"
      ]
     },
     "metadata": {},
     "output_type": "display_data"
    }
   ],
   "source": [
    "y_pred_proba = model_cbc.predict_proba(X_test)\n",
    "print('roc-auc', roc_auc_score(y_test, y_pred_proba[:,1]))\n",
    "\n",
    "skplt.metrics.plot_roc(y_test, y_pred_proba)\n",
    "plt.show()\n",
    "skplt.metrics.plot_precision_recall(y_test, y_pred_proba)\n",
    "plt.show()"
   ]
  },
  {
   "cell_type": "code",
   "execution_count": 91,
   "id": "da4eac01",
   "metadata": {},
   "outputs": [
    {
     "data": {
      "text/plain": [
       "<AxesSubplot:>"
      ]
     },
     "execution_count": 91,
     "metadata": {},
     "output_type": "execute_result"
    },
    {
     "data": {
      "image/png": "[encoded data removed]",
      "text/plain": [
       "<Figure size 432x288 with 1 Axes>"
      ]
     },
     "metadata": {},
     "output_type": "display_data"
    }
   ],
   "source": [
    "(pd.Series(model_cbc.best_estimator_.feature_importances_, index=X_test.columns)\n",
    "   .nlargest(15)\n",
    "   .plot(kind='barh'))"
   ]
  },
  {
   "cell_type": "markdown",
   "id": "f7afd6a3",
   "metadata": {},
   "source": [
    "Модель неплохо обучилась и показала хорошие результаты на тестовой выборке"
   ]
  },
  {
   "cell_type": "markdown",
   "id": "8f9cf718",
   "metadata": {},
   "source": [
    "## Вывод"
   ]
  },
  {
   "cell_type": "markdown",
   "id": "7200c9bd",
   "metadata": {},
   "source": [
    "Для прогноза оттока пользователей, важными признаками являются - сколько пользователь пользуется услугами и сколько он платит в месяц.\n",
    "Лучшие метрики удалось получить у модели CatBoostClassifier."
   ]
  }
 ],
 "metadata": {
  "ExecuteTimeLog": [
   {
    "duration": 1300,
    "start_time": "2022-09-05T06:23:01.805Z"
   },
   {
    "duration": 3,
    "start_time": "2022-09-05T06:23:03.107Z"
   },
   {
    "duration": 551,
    "start_time": "2022-09-07T09:11:04.781Z"
   },
   {
    "duration": 1,
    "start_time": "2022-09-07T09:11:05.333Z"
   },
   {
    "duration": 3201,
    "start_time": "2022-09-07T09:11:17.276Z"
   },
   {
    "duration": 795,
    "start_time": "2022-09-07T09:11:22.930Z"
   },
   {
    "duration": 1247,
    "start_time": "2022-09-07T09:11:32.757Z"
   },
   {
    "duration": 784,
    "start_time": "2022-09-07T09:11:50.485Z"
   },
   {
    "duration": 3,
    "start_time": "2022-09-07T09:11:51.892Z"
   },
   {
    "duration": 2,
    "start_time": "2022-09-07T09:11:58.549Z"
   },
   {
    "duration": 35,
    "start_time": "2022-09-07T09:11:59.084Z"
   },
   {
    "duration": 8,
    "start_time": "2022-09-07T09:11:59.246Z"
   },
   {
    "duration": 9,
    "start_time": "2022-09-07T09:11:59.372Z"
   },
   {
    "duration": 172,
    "start_time": "2022-09-07T09:12:11.551Z"
   },
   {
    "duration": 15,
    "start_time": "2022-09-07T09:12:13.539Z"
   },
   {
    "duration": 13,
    "start_time": "2022-09-07T09:12:13.748Z"
   },
   {
    "duration": 10,
    "start_time": "2022-09-07T09:12:23.749Z"
   },
   {
    "duration": 18,
    "start_time": "2022-09-07T09:12:23.917Z"
   },
   {
    "duration": 14,
    "start_time": "2022-09-07T09:12:24.229Z"
   },
   {
    "duration": 30,
    "start_time": "2022-09-07T09:12:24.772Z"
   },
   {
    "duration": 4,
    "start_time": "2022-09-07T09:12:25.294Z"
   },
   {
    "duration": 1899,
    "start_time": "2022-09-07T09:12:25.734Z"
   },
   {
    "duration": 82,
    "start_time": "2022-09-07T09:12:40.621Z"
   },
   {
    "duration": 13,
    "start_time": "2022-09-07T09:12:45.134Z"
   },
   {
    "duration": 11,
    "start_time": "2022-09-07T09:12:45.579Z"
   },
   {
    "duration": 6,
    "start_time": "2022-09-07T09:12:45.948Z"
   },
   {
    "duration": 9,
    "start_time": "2022-09-07T09:12:46.477Z"
   },
   {
    "duration": 154,
    "start_time": "2022-09-07T09:12:50.396Z"
   },
   {
    "duration": 190,
    "start_time": "2022-09-07T09:12:56.972Z"
   },
   {
    "duration": 3,
    "start_time": "2022-09-07T09:12:57.644Z"
   },
   {
    "duration": 24,
    "start_time": "2022-09-07T09:12:58.404Z"
   },
   {
    "duration": 17,
    "start_time": "2022-09-07T09:12:58.623Z"
   },
   {
    "duration": 5,
    "start_time": "2022-09-07T09:13:00.084Z"
   },
   {
    "duration": 22,
    "start_time": "2022-09-07T09:13:00.300Z"
   },
   {
    "duration": 103,
    "start_time": "2022-09-07T09:13:00.865Z"
   },
   {
    "duration": 9,
    "start_time": "2022-09-07T09:13:01.038Z"
   },
   {
    "duration": 19,
    "start_time": "2022-09-07T09:13:02.331Z"
   },
   {
    "duration": 13,
    "start_time": "2022-09-07T09:13:02.971Z"
   },
   {
    "duration": 6,
    "start_time": "2022-09-07T09:13:04.674Z"
   },
   {
    "duration": 159,
    "start_time": "2022-09-07T09:13:04.980Z"
   },
   {
    "duration": 173,
    "start_time": "2022-09-07T09:13:05.900Z"
   },
   {
    "duration": 23,
    "start_time": "2022-09-07T09:13:06.737Z"
   },
   {
    "duration": 302,
    "start_time": "2022-09-07T09:13:06.947Z"
   },
   {
    "duration": 102,
    "start_time": "2022-09-07T09:13:07.579Z"
   },
   {
    "duration": 5,
    "start_time": "2022-09-07T09:13:07.883Z"
   },
   {
    "duration": 77,
    "start_time": "2022-09-07T09:13:13.771Z"
   },
   {
    "duration": 10,
    "start_time": "2022-09-07T09:13:14.136Z"
   },
   {
    "duration": 96,
    "start_time": "2022-09-07T09:13:18.737Z"
   },
   {
    "duration": 9,
    "start_time": "2022-09-07T09:13:18.943Z"
   },
   {
    "duration": 14,
    "start_time": "2022-09-07T09:13:19.132Z"
   },
   {
    "duration": 9,
    "start_time": "2022-09-07T09:13:19.310Z"
   },
   {
    "duration": 1188,
    "start_time": "2022-09-07T09:13:19.475Z"
   },
   {
    "duration": 63,
    "start_time": "2022-09-07T09:14:32.395Z"
   },
   {
    "duration": 16,
    "start_time": "2022-09-07T09:14:35.843Z"
   },
   {
    "duration": 740,
    "start_time": "2022-09-07T09:14:39.690Z"
   },
   {
    "duration": 24,
    "start_time": "2022-09-07T09:14:55.626Z"
   },
   {
    "duration": 21,
    "start_time": "2022-09-07T09:15:07.840Z"
   },
   {
    "duration": 6,
    "start_time": "2022-09-07T09:15:21.665Z"
   },
   {
    "duration": 7,
    "start_time": "2022-09-07T09:15:21.897Z"
   },
   {
    "duration": 5,
    "start_time": "2022-09-07T09:15:24.349Z"
   },
   {
    "duration": 7,
    "start_time": "2022-09-07T09:15:27.770Z"
   },
   {
    "duration": 1729,
    "start_time": "2022-09-07T09:15:27.946Z"
   },
   {
    "duration": 5,
    "start_time": "2022-09-07T09:15:34.257Z"
   },
   {
    "duration": 10,
    "start_time": "2022-09-07T09:15:37.385Z"
   },
   {
    "duration": 27,
    "start_time": "2022-09-07T09:15:39.535Z"
   },
   {
    "duration": 44,
    "start_time": "2022-09-07T09:15:44.449Z"
   },
   {
    "duration": 189,
    "start_time": "2022-09-07T09:15:49.928Z"
   },
   {
    "duration": 19,
    "start_time": "2022-09-07T09:15:50.745Z"
   },
   {
    "duration": 8,
    "start_time": "2022-09-07T09:15:51.239Z"
   },
   {
    "duration": 5,
    "start_time": "2022-09-07T09:15:53.645Z"
   },
   {
    "duration": 18,
    "start_time": "2022-09-07T09:15:53.857Z"
   },
   {
    "duration": 87,
    "start_time": "2022-09-07T09:16:16.521Z"
   },
   {
    "duration": 12,
    "start_time": "2022-09-07T09:16:27.265Z"
   },
   {
    "duration": 92,
    "start_time": "2022-09-07T09:27:33.361Z"
   },
   {
    "duration": 53,
    "start_time": "2022-09-07T09:28:22.441Z"
   },
   {
    "duration": 49,
    "start_time": "2022-09-07T09:28:24.736Z"
   },
   {
    "duration": 33,
    "start_time": "2022-09-07T09:29:30.647Z"
   },
   {
    "duration": 35489,
    "start_time": "2022-09-07T09:34:28.141Z"
   }
  ],
  "kernelspec": {
   "display_name": "Python 3 (ipykernel)",
   "language": "python",
   "name": "python3"
  },
  "language_info": {
   "codemirror_mode": {
    "name": "ipython",
    "version": 3
   },
   "file_extension": ".py",
   "mimetype": "text/x-python",
   "name": "python",
   "nbconvert_exporter": "python",
   "pygments_lexer": "ipython3",
   "version": "3.9.7"
  },
  "toc": {
   "base_numbering": 1,
   "nav_menu": {},
   "number_sections": true,
   "sideBar": true,
   "skip_h1_title": true,
   "title_cell": "Table of Contents",
   "title_sidebar": "Contents",
   "toc_cell": false,
   "toc_position": {},
   "toc_section_display": true,
   "toc_window_display": false
  }
 },
 "nbformat": 4,
 "nbformat_minor": 5
}
